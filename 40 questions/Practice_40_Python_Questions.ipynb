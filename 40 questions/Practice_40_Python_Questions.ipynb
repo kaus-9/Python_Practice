{
 "cells": [
  {
   "cell_type": "markdown",
   "id": "397eea02-9ab4-4f37-b9f0-a46d24f0f338",
   "metadata": {},
   "source": [
    "### practice 40 questions of python\n",
    "***here's the link to the question's website :*** *https://www.practicepython.org/*"
   ]
  },
  {
   "cell_type": "code",
   "execution_count": 7,
   "id": "06a70435-013c-44a1-a04e-f4bf2661687f",
   "metadata": {},
   "outputs": [
    {
     "name": "stdin",
     "output_type": "stream",
     "text": [
      "please enter your name and age seperated by a \"-\" :  Thor-23\n"
     ]
    },
    {
     "name": "stdout",
     "output_type": "stream",
     "text": [
      "Thor ! you will be of 100 years in the year 2101.\n"
     ]
    }
   ],
   "source": [
    "# 1. Create a program that asks the user to enter their name and their age.\n",
    "# Print out a message addressed to them that tells them the year that they will turn 100 years old.\n",
    "# Note: for this exercise, the expectation is that you explicitly write out the year (and therefore be out of date the next year).\n",
    "user_inp = input('please enter your name and age seperated by a \\\"-\\\" : ')\n",
    "name, age = user_inp.split('-')\n",
    "print(\"{0} ! you will be of 100 years in the year {1}.\".format(name,100-int(age)+2024))"
   ]
  },
  {
   "cell_type": "code",
   "execution_count": 9,
   "id": "863e7d03-3ec6-413d-a172-9191d17ddcaa",
   "metadata": {},
   "outputs": [
    {
     "name": "stdin",
     "output_type": "stream",
     "text": [
      "give a number :  17\n"
     ]
    },
    {
     "name": "stdout",
     "output_type": "stream",
     "text": [
      "it is an odd number.\n"
     ]
    }
   ],
   "source": [
    "#Ask the user for a number. Depending on whether the number is even or odd, print out an appropriate message to the user.\n",
    "\n",
    "# Extras:\n",
    "# 1. If the number is a multiple of 4, print out a different message.\n",
    "# 2. Ask the user for two numbers: one number to check (call it num) and one number to divide by (check).\n",
    "# If check divides evenly into num, tell that to the user. If not, print a different appropriate message.\n",
    "\n",
    "user_inp = int(input('give a number : '))\n",
    "\n",
    "if user_inp % 4 == 0 :\n",
    "    print('it is a multiple of 4.')\n",
    "elif user_inp % 2 == 0 :\n",
    "    print('it is an even number.')\n",
    "else :\n",
    "    print('it is an odd number.')"
   ]
  },
  {
   "cell_type": "code",
   "execution_count": 45,
   "id": "751ecdb1-4d4e-4d96-a835-5c87032096de",
   "metadata": {},
   "outputs": [
    {
     "name": "stdin",
     "output_type": "stream",
     "text": [
      "give the number from which you want to check smaller numbers in the list :  8\n"
     ]
    },
    {
     "data": {
      "text/plain": [
       "[1, 1, 2, 3, 5]"
      ]
     },
     "execution_count": 45,
     "metadata": {},
     "output_type": "execute_result"
    }
   ],
   "source": [
    "# Take a list, say for example this one:\n",
    "#   a = [1, 1, 2, 3, 5, 8, 13, 21, 34, 55, 89]\n",
    "# and write a program that prints out all the elements of the list that are less than 5.\n",
    "\n",
    "# Extras:\n",
    "# 1. Instead of printing the elements one by one, make a new list that has all the elements less than 5 from this list in it\n",
    "#    and print out this new list.\n",
    "# 2. Write this in one line of Python.\n",
    "# 3. Ask the user for a number and return a list that contains only elements from the original list a that are\n",
    "#    smaller than that number given by the user.\n",
    "\n",
    "a = [1, 1, 2, 3, 5, 8, 13, 21, 34, 55, 89]\n",
    "\n",
    "\n",
    "# l = len(a)\n",
    "# num = int(input('give the number from which you want to check smaller numbers in the list : '))\n",
    "# i = 0\n",
    "# ans = []\n",
    "\n",
    "# while i < l :\n",
    "#     if a[i] < num :\n",
    "#         ans.append(a[i])\n",
    "#     i += 1\n",
    "\n",
    "# print(ans)\n",
    "\n",
    "num = int(input('give the number from which you want to check smaller numbers in the list : '))\n",
    "ans = [i for i in a if i < num]\n",
    "ans"
   ]
  },
  {
   "cell_type": "code",
   "execution_count": 7,
   "id": "32de58d2-ba1e-4f50-b323-c18220190eb6",
   "metadata": {},
   "outputs": [
    {
     "name": "stdin",
     "output_type": "stream",
     "text": [
      "Give a number :  64\n"
     ]
    },
    {
     "name": "stdout",
     "output_type": "stream",
     "text": [
      "{32, 2, 4, 8, 16}\n"
     ]
    }
   ],
   "source": [
    "# Create a program that asks the user for a number and then prints out a list of all the divisors of that number.\n",
    "# divisor is a number that divides another number completely without leaving any remainder.\n",
    "\n",
    "num = int(input('Give a number : '))\n",
    "\n",
    "# ans = [i for i in range(2,num) if num % i == 0]\n",
    "# ans\n",
    "\n",
    "# or\n",
    "\n",
    "i = 2\n",
    "ans = set()\n",
    "while i*i <= num :\n",
    "    if num % i == 0 :\n",
    "        ans.add(i)\n",
    "        ans.add(int(num/i))\n",
    "    i += 1\n",
    "print(ans)"
   ]
  },
  {
   "cell_type": "code",
   "execution_count": 21,
   "id": "19d558e2-d977-487d-9fad-fe83a32b7697",
   "metadata": {},
   "outputs": [
    {
     "data": {
      "text/plain": [
       "[1, 2, 3, 5, 8, 13]"
      ]
     },
     "execution_count": 21,
     "metadata": {},
     "output_type": "execute_result"
    }
   ],
   "source": [
    "# Take two lists, say for example these two:\n",
    "#   a = [1, 1, 2, 3, 5, 8, 13, 21, 34, 55, 89]\n",
    "#   b = [1, 2, 3, 4, 5, 6, 7, 8, 9, 10, 11, 12, 13]\n",
    "# and write a program that returns a list that contains only the elements that are common between the lists (without duplicates).\n",
    "# Make sure your program works on two lists of different sizes.\n",
    "\n",
    "# Extras:\n",
    "# 1. Randomly generate two lists to test this\n",
    "# 2. Write this in one line of Python\n",
    "\n",
    "a = [1, 1, 2, 3, 5, 8, 13, 21, 34, 55, 89]\n",
    "b = [1, 2, 3, 4, 5, 6, 7, 8, 9, 10, 11, 12, 13]\n",
    "\n",
    "# ans = set(a) & set(b) # using sets\n",
    "# ans\n",
    "\n",
    "# ans = []\n",
    "# for i in b : # using for loop and an if statement with it\n",
    "#     if i in a :\n",
    "#         ans.append(i)\n",
    "# ans\n",
    "\n",
    "ans = [i for i in b if i in a] # using list comprehensions with if statement\n",
    "ans"
   ]
  },
  {
   "cell_type": "code",
   "execution_count": 53,
   "id": "4f4f4198-36c2-493c-aab9-d87dd91ef854",
   "metadata": {},
   "outputs": [
    {
     "name": "stdin",
     "output_type": "stream",
     "text": [
      "Give a string :  lolol\n"
     ]
    },
    {
     "name": "stdout",
     "output_type": "stream",
     "text": [
      "it is a palindrome\n"
     ]
    }
   ],
   "source": [
    "# Ask the user for a string and print out whether this string is a palindrome or not.\n",
    "# (A palindrome is a string that reads the same forwards and backwards.)\n",
    "\n",
    "user_inp = input('Give a string : ').lower()\n",
    "\n",
    "# if list(user_inp) == list(reversed(user_inp)) :\n",
    "#     print(True)\n",
    "# else :\n",
    "#     print(False)\n",
    "\n",
    "i = 0\n",
    "l = len(user_inp)-1\n",
    "\n",
    "while i <= l :\n",
    "    if user_inp[i] != user_inp[l] :\n",
    "        print('it is not a palindrome')\n",
    "        break\n",
    "    i += 1\n",
    "    l -= 1\n",
    "else :\n",
    "    print('it is a palindrome')"
   ]
  },
  {
   "cell_type": "code",
   "execution_count": 57,
   "id": "c5616a31-513f-495e-a5d6-f421421cdccf",
   "metadata": {},
   "outputs": [
    {
     "data": {
      "text/plain": [
       "[4, 16, 36, 64, 100]"
      ]
     },
     "execution_count": 57,
     "metadata": {},
     "output_type": "execute_result"
    }
   ],
   "source": [
    "# Let’s say I give you a list saved in a variable: a = [1, 4, 9, 16, 25, 36, 49, 64, 81, 100].\n",
    "# Write one line of Python that takes this list a and makes a new list that has only the even elements of this list in it.\n",
    "\n",
    "a = [1, 4, 9, 16, 25, 36, 49, 64, 81, 100]\n",
    "\n",
    "ans = [x for x in a if x % 2 == 0]\n",
    "ans"
   ]
  },
  {
   "cell_type": "code",
   "execution_count": 73,
   "id": "c9ecd7c3-4c57-4483-9fe4-a18d3e9a7e84",
   "metadata": {
    "scrolled": true
   },
   "outputs": [
    {
     "name": "stdout",
     "output_type": "stream",
     "text": [
      "**********************************\n",
      "Choose from :\n",
      "Rock -> 1\n",
      "Paper -> 2\n",
      "Scissor -> 3\n"
     ]
    },
    {
     "name": "stdin",
     "output_type": "stream",
     "text": [
      "Player 1 :  1\n",
      "Player 2 :  2\n"
     ]
    },
    {
     "name": "stdout",
     "output_type": "stream",
     "text": [
      "**********************************\n",
      "Choose from :\n",
      "Rock -> 1\n",
      "Paper -> 2\n",
      "Scissor -> 3\n"
     ]
    },
    {
     "name": "stdin",
     "output_type": "stream",
     "text": [
      "Player 1 :  2\n",
      "Player 2 :  3\n"
     ]
    },
    {
     "name": "stdout",
     "output_type": "stream",
     "text": [
      "**********************************\n",
      "Choose from :\n",
      "Rock -> 1\n",
      "Paper -> 2\n",
      "Scissor -> 3\n"
     ]
    },
    {
     "name": "stdin",
     "output_type": "stream",
     "text": [
      "Player 1 :  2\n",
      "Player 2 :  1\n"
     ]
    },
    {
     "name": "stdout",
     "output_type": "stream",
     "text": [
      "\n",
      "player 2 won the game\n"
     ]
    }
   ],
   "source": [
    "# Make a two-player Rock-Paper-Scissors game.\n",
    "\n",
    "# Remember the rules:\n",
    "# Rock beats scissors\n",
    "# Scissors beats paper\n",
    "# Paper beats rock\n",
    "\n",
    "game_chances = 3\n",
    "i = 0\n",
    "p1_score = 0\n",
    "p2_score = 0\n",
    "\n",
    "while i < game_chances :\n",
    "    print('**********************************\\nChoose from :\\nRock -> 1\\nPaper -> 2\\nScissor -> 3')\n",
    "    player1 = int(input('Player 1 : '))\n",
    "    player2 = int(input('Player 2 : '))\n",
    "    if player1 == 1 and player2 == 2 or player1 == 3 and player2 == 1 or player1 == 2 and player2 == 3:\n",
    "        p2_score += 1\n",
    "    elif player1 == 2 and player2 == 1 or player1 == 3 and player2 == 2 or player1 == 1 and player2 == 3:\n",
    "        p1_score += 1\n",
    "    i += 1\n",
    "\n",
    "if p1_score > p2_score :\n",
    "    print('player 1 won the game')\n",
    "elif p1_score == p2_score :\n",
    "    print('it is a draw / tie')\n",
    "else :\n",
    "    print('\\nplayer 2 won the game')"
   ]
  },
  {
   "cell_type": "code",
   "execution_count": 85,
   "id": "c0d8917e-cd67-4ce4-a024-d1253deddb9e",
   "metadata": {
    "scrolled": true
   },
   "outputs": [
    {
     "name": "stdin",
     "output_type": "stream",
     "text": [
      "Guess a number between 1 to 10 or 'e' for exit :  2\n",
      "Guess a number between 1 to 10 or 'e' for exit :  2\n",
      "Guess a number between 1 to 10 or 'e' for exit :  2\n",
      "Guess a number between 1 to 10 or 'e' for exit :  2\n",
      "Guess a number between 1 to 10 or 'e' for exit :  2\n",
      "Guess a number between 1 to 10 or 'e' for exit :  2\n",
      "Guess a number between 1 to 10 or 'e' for exit :  2\n",
      "Guess a number between 1 to 10 or 'e' for exit :  2\n",
      "Guess a number between 1 to 10 or 'e' for exit :  2\n",
      "Guess a number between 1 to 10 or 'e' for exit :  2\n",
      "Guess a number between 1 to 10 or 'e' for exit :  2\n",
      "Guess a number between 1 to 10 or 'e' for exit :  2\n",
      "Guess a number between 1 to 10 or 'e' for exit :  2\n",
      "Guess a number between 1 to 10 or 'e' for exit :  2\n",
      "Guess a number between 1 to 10 or 'e' for exit :  2\n",
      "Guess a number between 1 to 10 or 'e' for exit :  2\n",
      "Guess a number between 1 to 10 or 'e' for exit :  2\n",
      "Guess a number between 1 to 10 or 'e' for exit :  2\n",
      "Guess a number between 1 to 10 or 'e' for exit :  2\n",
      "Guess a number between 1 to 10 or 'e' for exit :  2\n",
      "Guess a number between 1 to 10 or 'e' for exit :  2\n",
      "Guess a number between 1 to 10 or 'e' for exit :  2\n",
      "Guess a number between 1 to 10 or 'e' for exit :  2\n",
      "Guess a number between 1 to 10 or 'e' for exit :  2\n",
      "Guess a number between 1 to 10 or 'e' for exit :  2\n",
      "Guess a number between 1 to 10 or 'e' for exit :  2\n",
      "Guess a number between 1 to 10 or 'e' for exit :  2\n",
      "Guess a number between 1 to 10 or 'e' for exit :  2\n",
      "Guess a number between 1 to 10 or 'e' for exit :  2\n",
      "Guess a number between 1 to 10 or 'e' for exit :  2\n",
      "Guess a number between 1 to 10 or 'e' for exit :  2\n",
      "Guess a number between 1 to 10 or 'e' for exit :  2\n",
      "Guess a number between 1 to 10 or 'e' for exit :  2\n",
      "Guess a number between 1 to 10 or 'e' for exit :  2\n",
      "Guess a number between 1 to 10 or 'e' for exit :  2\n",
      "Guess a number between 1 to 10 or 'e' for exit :  2\n",
      "Guess a number between 1 to 10 or 'e' for exit :  2\n",
      "Guess a number between 1 to 10 or 'e' for exit :  2\n",
      "Guess a number between 1 to 10 or 'e' for exit :  2\n",
      "Guess a number between 1 to 10 or 'e' for exit :  2\n",
      "Guess a number between 1 to 10 or 'e' for exit :  2\n",
      "Guess a number between 1 to 10 or 'e' for exit :  2\n",
      "Guess a number between 1 to 10 or 'e' for exit :  2\n",
      "Guess a number between 1 to 10 or 'e' for exit :  2\n",
      "Guess a number between 1 to 10 or 'e' for exit :  2\n",
      "Guess a number between 1 to 10 or 'e' for exit :  2\n",
      "Guess a number between 1 to 10 or 'e' for exit :  2\n",
      "Guess a number between 1 to 10 or 'e' for exit :  2\n",
      "Guess a number between 1 to 10 or 'e' for exit :  2\n",
      "Guess a number between 1 to 10 or 'e' for exit :  2\n",
      "Guess a number between 1 to 10 or 'e' for exit :  2\n",
      "Guess a number between 1 to 10 or 'e' for exit :  2\n",
      "Guess a number between 1 to 10 or 'e' for exit :  2\n",
      "Guess a number between 1 to 10 or 'e' for exit :  e\n"
     ]
    },
    {
     "name": "stdout",
     "output_type": "stream",
     "text": [
      "you scored 3 in 53 turns\n"
     ]
    }
   ],
   "source": [
    "# Generate a random number between 1 and 9 (including 1 and 9).\n",
    "# Ask the user to guess the number, then tell them whether they guessed too low, too high, or exactly right.\n",
    "\n",
    "# Extras:\n",
    "# Keep the game going until the user types “exit”\n",
    "# Keep track of how many guesses the user has taken, and when the game ends, print this out.\n",
    "import random\n",
    "\n",
    "tracker_t = 0\n",
    "score = 0\n",
    "\n",
    "while True :\n",
    "    user_inp = input(\"Guess a number between 1 to 10 or 'e' for exit : \")\n",
    "    if user_inp == 'e' :\n",
    "        break\n",
    "    else :\n",
    "        n = random.randint(1,10)\n",
    "        if int(user_inp) == n :\n",
    "            score += 1\n",
    "        tracker_t += 1\n",
    "\n",
    "print('you scored {0} in {1} turns'.format(score,tracker_t))"
   ]
  },
  {
   "cell_type": "code",
   "execution_count": 99,
   "id": "a9453ffb-fd07-44b2-a036-238a639fd5ee",
   "metadata": {},
   "outputs": [
    {
     "name": "stdout",
     "output_type": "stream",
     "text": [
      "[2, 5, 6, 7, 9, 10, 15, 16, 19, 20]\n",
      "[1, 2, 3, 5, 7, 8, 9, 10, 11, 12, 14, 15, 17, 18, 19, 20]\n"
     ]
    },
    {
     "data": {
      "text/plain": [
       "[2, 5, 7, 9, 10, 15, 19, 20]"
      ]
     },
     "execution_count": 99,
     "metadata": {},
     "output_type": "execute_result"
    }
   ],
   "source": [
    "# Randomly generate two lists a & b.\n",
    "# and write a program that returns a list that contains only the elements that are common between the lists (without duplicates).\n",
    "# Make sure your program works on two lists of different sizes.\n",
    "# Write this in one line of Python using at least one list comprehension.\n",
    "\n",
    "import random\n",
    "\n",
    "a = random.sample(range(1,21),10)\n",
    "b = random.sample(range(1,21),16)\n",
    "\n",
    "a.sort()\n",
    "b.sort()\n",
    "\n",
    "if len(a) > len(b) :\n",
    "    smaller = b\n",
    "    larger = a\n",
    "else :\n",
    "    larger = b\n",
    "    smaller = a\n",
    "\n",
    "print(a)\n",
    "print(b)\n",
    "\n",
    "ans = [i for i in smaller if i in larger]\n",
    "ans"
   ]
  },
  {
   "cell_type": "code",
   "execution_count": 14,
   "id": "2e7589bd-6c6f-4698-8338-6f3bfb1e2c34",
   "metadata": {},
   "outputs": [
    {
     "name": "stdin",
     "output_type": "stream",
     "text": [
      "Give the number :  18\n"
     ]
    },
    {
     "name": "stdout",
     "output_type": "stream",
     "text": [
      "it is not a prime number\n"
     ]
    }
   ],
   "source": [
    "# 11. Ask the user for a number and determine whether the number is prime or not.\n",
    "\n",
    "user_inp = int(input('Give the number : '))\n",
    "\n",
    "i = 2\n",
    "while i*i <= user_inp :\n",
    "    if user_inp % i == 0 :\n",
    "        print('it is not a prime number')\n",
    "        break\n",
    "    i += 1\n",
    "\n",
    "else :\n",
    "    print('it is a prime number')"
   ]
  },
  {
   "cell_type": "code",
   "execution_count": 16,
   "id": "2f4833b7-6498-413b-b2ac-3a1c65983a84",
   "metadata": {},
   "outputs": [
    {
     "data": {
      "text/plain": [
       "[5, 25]"
      ]
     },
     "execution_count": 16,
     "metadata": {},
     "output_type": "execute_result"
    }
   ],
   "source": [
    "# 12. Write a program that takes a list of numbers (for example, a = [5, 10, 15, 20, 25]) and\n",
    "# makes a new list of only the first and last elements of the given list.\n",
    "# For practice, write this code inside a function.\n",
    "\n",
    "def f(a) :\n",
    "    return [a[0],a[-1]]\n",
    "\n",
    "a = [5, 10, 15, 20, 25]\n",
    "f(a)"
   ]
  },
  {
   "cell_type": "code",
   "execution_count": 18,
   "id": "b828c039-d41a-485b-870f-d4f42b322d4c",
   "metadata": {},
   "outputs": [
    {
     "name": "stdin",
     "output_type": "stream",
     "text": [
      "Give index till which fibonacci series is to be generated :  8\n"
     ]
    },
    {
     "name": "stdout",
     "output_type": "stream",
     "text": [
      "1\n",
      "1\n",
      "2\n",
      "3\n",
      "5\n",
      "8\n",
      "13\n",
      "21\n"
     ]
    }
   ],
   "source": [
    "# 13. Write a program that asks the user how many Fibonnaci numbers to generate and then generates them.\n",
    "# Take this opportunity to think about how you can use functions.\n",
    "# Make sure to ask the user to enter the number of numbers in the sequence to generate.\n",
    "\n",
    "def fibo(n) :\n",
    "    return 1 if n <= 1 else fibo(n-1) + fibo(n-2)\n",
    "\n",
    "user_inp = int(input('Give index till which fibonacci series is to be generated : '))\n",
    "\n",
    "for i in range(user_inp) :\n",
    "    print(fibo(i))"
   ]
  },
  {
   "cell_type": "code",
   "execution_count": 24,
   "id": "bb341e5d-4ab6-433e-b26f-a9e86993e42e",
   "metadata": {},
   "outputs": [
    {
     "name": "stdout",
     "output_type": "stream",
     "text": [
      "[1, 2, 3, 4, 5, 6, 7, 8, 9, 10, 11, 12, 13, 14, 15]\n",
      "[1, 2, 3, 4, 5, 6, 7, 8, 9, 10, 11, 12, 13, 14, 15]\n"
     ]
    }
   ],
   "source": [
    "# 14. Write a program (function!) that takes a list and returns a new list that contains\n",
    "# all the elements of the first list minus all the duplicates.\n",
    "\n",
    "# Extras:\n",
    "# Write two different functions to do this - one using a loop and constructing a list, and another using sets.\n",
    "\n",
    "def f_loop(lst) :\n",
    "    new_lst = []\n",
    "    for i in lst :\n",
    "        if i in new_lst :\n",
    "            continue\n",
    "        else :\n",
    "            new_lst.append(i)\n",
    "    return new_lst\n",
    "\n",
    "\n",
    "def f_sets(lst) :\n",
    "    return list(set(lst))\n",
    "\n",
    "\n",
    "a = [1,2,3,4,5,6,6,7,8,9,9,9,10,11,11,12,13,14,15]\n",
    "\n",
    "print(f_loop(a))\n",
    "\n",
    "print(f_sets(a))"
   ]
  },
  {
   "cell_type": "code",
   "execution_count": 70,
   "id": "39c5a33b-49e9-4a92-9cb9-b3286dd7c372",
   "metadata": {},
   "outputs": [
    {
     "name": "stdin",
     "output_type": "stream",
     "text": [
      "please give a string of words :  My name is Kaus\n"
     ]
    },
    {
     "data": {
      "text/plain": [
       "'Kaus is name My'"
      ]
     },
     "execution_count": 70,
     "metadata": {},
     "output_type": "execute_result"
    }
   ],
   "source": [
    "# 15. Write a program (using functions!) that asks the user for a long string containing multiple words.\n",
    "# Print back to the user the same string, except with the words in backwards order.\n",
    "\n",
    "# def f(s) :\n",
    "#     return ' '.join(list(reversed(s.split())))\n",
    "\n",
    "def f(s) :\n",
    "    return ' '.join(s.split()[::-1])\n",
    "\n",
    "\n",
    "f(input('please give a string of words : '))"
   ]
  },
  {
   "cell_type": "code",
   "execution_count": 33,
   "id": "d82f66f5-97b1-49a3-9fd3-88e56fc473e1",
   "metadata": {},
   "outputs": [
    {
     "name": "stdout",
     "output_type": "stream",
     "text": [
      "15 is at index 5 in the list.\n"
     ]
    },
    {
     "data": {
      "text/plain": [
       "5"
      ]
     },
     "execution_count": 33,
     "metadata": {},
     "output_type": "execute_result"
    }
   ],
   "source": [
    "# 20. Write a function that takes an ordered list of numbers (a list where the elements are in order from smallest to largest)\n",
    "# & another number.\n",
    "# The function decides whether or not the given number is inside the list and returns (then prints) an appropriate boolean.\n",
    "\n",
    "# Extras:\n",
    "# Use binary search.\n",
    "\n",
    "\n",
    "# def b_search(lst,n) :\n",
    "\n",
    "#     l = 0\n",
    "#     u = len(lst)-1\n",
    "    \n",
    "#     if (lst[l] == n) :\n",
    "#         return l\n",
    "#     elif (lst[u] == n) :\n",
    "#         return u\n",
    "\n",
    "#     while l < u :\n",
    "#         m = int((l + u) / 2)\n",
    "#         if n == lst[m] :\n",
    "#             print(n,'is at index',m,'in the list.')\n",
    "#             return\n",
    "#         elif u - 1 == l :\n",
    "#             print(n,'is not in the list.')\n",
    "#             return\n",
    "#         elif n > lst[m] :\n",
    "#             l = m\n",
    "#         elif n < lst[m] :\n",
    "#             u = m\n",
    "\n",
    "#     else :\n",
    "#         print(n,'is not in the list.')\n",
    "\n",
    "def checker(lst,l,u,n) :\n",
    "    m = int((l + u) / 2)\n",
    "    # print(m,'m')\n",
    "    if n == lst[m] :\n",
    "        print(n,'is at index',m,'in the list.')\n",
    "        return m\n",
    "    elif u - 1 == l :\n",
    "        print(n,'is not in the list.')\n",
    "        return\n",
    "    elif n > lst[m] :\n",
    "        l = m\n",
    "    elif n < lst[m] :\n",
    "        u = m\n",
    "\n",
    "    # print(u,'u')\n",
    "    # print(l,'l')\n",
    "    return checker(lst,l,u,n)\n",
    "  \n",
    "\n",
    "def b_search(lst,n) :\n",
    "    l = 0\n",
    "    u = len(lst)-1\n",
    "    if (lst[l] == n) :\n",
    "        return l\n",
    "    elif (lst[u] == n) :\n",
    "        return u\n",
    "    else :\n",
    "        return checker(lst,l,u,n)\n",
    "\n",
    "\n",
    "a = [1,5,7,9,12,15,17,18,20,23,27,31,35,39,42,44,47,49]\n",
    "b_search(a,15)"
   ]
  },
  {
   "cell_type": "code",
   "execution_count": 54,
   "id": "460b9cbe-8251-4ac6-ab94-df7065ff4cc4",
   "metadata": {},
   "outputs": [
    {
     "name": "stdout",
     "output_type": "stream",
     "text": [
      "Lea 54\n",
      "Darth 31\n",
      "Luke 15\n"
     ]
    }
   ],
   "source": [
    "# 22. Given a .txt file that has a list of a bunch of names,\n",
    "# count how many of each name there are in the file, and print out the results to the screen.\n",
    "\n",
    "f = open('nameslist.txt','r')\n",
    "\n",
    "names = f.readlines()\n",
    "# print(names)\n",
    "# print(len(names))\n",
    "l = names[-1]\n",
    "names = [i[:-1] for i in names if i != names[-1]]\n",
    "names.append(l)\n",
    "# print(names)\n",
    "# print(len(names))\n",
    "set_names = set(names)\n",
    "for i in set_names :\n",
    "    print(i,names.count(i))\n",
    "f.close()"
   ]
  },
  {
   "cell_type": "code",
   "execution_count": 74,
   "id": "cb551d01-195e-4ed7-b67e-0a9b28e4a64d",
   "metadata": {
    "scrolled": true
   },
   "outputs": [
    {
     "name": "stdout",
     "output_type": "stream",
     "text": [
      "palace 50\n",
      "archive 50\n",
      "planetarium 50\n",
      "dining_car 50\n",
      "kitchenette 50\n",
      "bus_interior 50\n",
      "field 100\n",
      "orchard 50\n",
      "harbor 50\n",
      "toyshop 50\n",
      "coast 50\n",
      "skyscraper 50\n",
      "podium 100\n",
      "runway 50\n",
      "cottage_garden 50\n",
      "squash_court 50\n",
      "underwater 50\n",
      "ocean 50\n",
      "lido_deck 50\n",
      "observatory 50\n",
      "basement 50\n",
      "topiary_garden 50\n",
      "power_plant 50\n",
      "dining_room 50\n",
      "fishpond 50\n",
      "wine_cellar 100\n",
      "mosque 100\n",
      "jail_cell 50\n",
      "assembly_line 50\n",
      "slum 50\n",
      "banquet_hall 50\n",
      "promenade_deck 50\n",
      "elevator 100\n",
      "veranda 50\n",
      "driveway 50\n",
      "garbage_dump 50\n",
      "escalator 50\n",
      "ski_resort 50\n",
      "burial_chamber 50\n",
      "warehouse 50\n",
      "pub 50\n",
      "kitchen 50\n",
      "inn 50\n",
      "jail 50\n",
      "bridge 50\n",
      "diner 100\n",
      "boardwalk 50\n",
      "museum 50\n",
      "amusement_park 50\n",
      "restaurant_patio 50\n",
      "castle 50\n",
      "athletic_field 50\n",
      "marsh 50\n",
      "office_building 50\n",
      "plaza 50\n",
      "cloister 50\n",
      "picnic_area 50\n",
      "library 100\n",
      "stable 50\n",
      "sea_cliff 50\n",
      "garage 50\n",
      "wave 50\n",
      "bowling_alley 50\n",
      "game_room 50\n",
      "casino 50\n",
      "train_railway 50\n",
      "crosswalk 50\n",
      "subway_interior 50\n",
      "pilothouse 50\n",
      "cathedral 100\n",
      "laundromat 50\n",
      "lighthouse 50\n",
      "balcony 100\n",
      "herb_garden 50\n",
      "fastfood_restaurant 50\n",
      "parking_lot 50\n",
      "reception 50\n",
      "building_facade 50\n",
      "racecourse 50\n",
      "kennel 100\n",
      "rainforest 50\n",
      "shed 50\n",
      "skatepark 50\n",
      "cockpit 50\n",
      "hot_tub 50\n",
      "cemetery 50\n",
      "auditorium 50\n",
      "hospital_room 50\n",
      "bakery 50\n",
      "volcano 50\n",
      "sauna 50\n",
      "bow_window 100\n",
      "biology_laboratory 50\n",
      "conference_center 50\n",
      "badlands 50\n",
      "apartment_building 50\n",
      "tennis_court 100\n",
      "booth 50\n",
      "pavilion 50\n",
      "stage 50\n",
      "kindergarden_classroom 50\n",
      "patio 50\n",
      "creek 50\n",
      "water_tower 50\n",
      "phone_booth 50\n",
      "toll_plaza 50\n",
      "tree_house 50\n",
      "candy_store 50\n",
      "manufactured_home 50\n",
      "shopfront 50\n",
      "general_store 100\n",
      "tower 50\n",
      "ski_slope 50\n",
      "wrestling_ring 50\n",
      "classroom 50\n",
      "canal 100\n",
      "courthouse 50\n",
      "mansion 50\n",
      "arrival_gate 50\n",
      "coffee_shop 50\n",
      "dinette 100\n",
      "basketball_court 50\n",
      "engine_room 50\n",
      "oilrig 50\n",
      "art_gallery 50\n",
      "hospital 50\n",
      "veterinarians_office 50\n",
      "construction_site 50\n",
      "bullring 50\n",
      "throne_room 50\n",
      "bazaar 100\n",
      "sandbox 50\n",
      "heliport 50\n",
      "iceberg 50\n",
      "mausoleum 50\n",
      "market 100\n",
      "bistro 50\n",
      "art_school 50\n",
      "vineyard 50\n",
      "abbey 50\n",
      "doorway 50\n",
      "anechoic_chamber 50\n",
      "ballroom 50\n",
      "conference_room 50\n",
      "pagoda 50\n",
      "beauty_salon 50\n",
      "playroom 50\n",
      "excavation 50\n",
      "attic 50\n",
      "greenhouse 100\n",
      "viaduct 50\n",
      "covered_bridge 50\n",
      "outhouse 50\n",
      "thriftshop 50\n",
      "volleyball_court 100\n",
      "river 50\n",
      "hill 50\n",
      "riding_arena 50\n",
      "martial_arts_gym 50\n",
      "medina 50\n",
      "car_interior 100\n",
      "village 50\n",
      "movie_theater 50\n",
      "corn_field 50\n",
      "fairway 50\n",
      "tent 50\n",
      "formal_garden 50\n",
      "valley 50\n",
      "recreation_room 50\n",
      "alley 50\n",
      "drugstore 50\n",
      "wind_farm 50\n",
      "campsite 50\n",
      "limousine_interior 50\n",
      "amphitheater 50\n",
      "forest 100\n",
      "beach 50\n",
      "courtroom 50\n",
      "hunting_lodge 50\n",
      "baggage_claim 50\n",
      "boxing_ring 50\n",
      "living_room 50\n",
      "desert 100\n",
      "ball_pit 50\n",
      "canyon 50\n",
      "ice_shelf 50\n",
      "sandbar 50\n",
      "arch 50\n",
      "aquarium 50\n",
      "cliff 50\n",
      "motel 50\n",
      "hotel_room 50\n",
      "ticket_booth 50\n",
      "golf_course 50\n",
      "subway_station 50\n",
      "carrousel 50\n",
      "house 50\n",
      "pantry 50\n",
      "rock_arch 50\n",
      "lake 50\n",
      "childs_room 50\n",
      "raft 50\n",
      "server_room 50\n",
      "jacuzzi 50\n",
      "bathroom 50\n",
      "nuclear_power_plant 50\n",
      "vegetable_garden 50\n",
      "rice_paddy 50\n",
      "sky 50\n",
      "chicken_coop 100\n",
      "lift_bridge 50\n",
      "cafeteria 50\n",
      "pond 50\n",
      "synagogue 100\n",
      "swamp 50\n",
      "trench 50\n",
      "oast_house 50\n",
      "berth 50\n",
      "cubicle 50\n",
      "raceway 50\n",
      "ski_lodge 50\n",
      "ice_floe 50\n",
      "kasbah 50\n",
      "hotel 50\n",
      "mountain_snowy 50\n",
      "poolroom 100\n",
      "cheese_factory 50\n",
      "highway 50\n",
      "catacomb 50\n",
      "stadium 100\n",
      "pasture 50\n",
      "baseball_field 50\n",
      "botanical_garden 50\n",
      "badminton_court 50\n",
      "church 100\n",
      "dock 50\n",
      "brewery 50\n",
      "shoe_shop 50\n",
      "track 50\n",
      "nursery 50\n",
      "labyrinth 50\n",
      "restaurant 50\n",
      "chemistry_lab 50\n",
      "locker_room 50\n",
      "park 50\n",
      "chalet 50\n",
      "residential_neighborhood 50\n",
      "bayou 50\n",
      "dentists_office 50\n",
      "delicatessen 50\n",
      "mountain 50\n",
      "control_room 50\n",
      "courtyard 50\n",
      "wheat_field 50\n",
      "operating_room 50\n",
      "watering_hole 50\n",
      "atrium 50\n",
      "driving_range 50\n",
      "apse 50\n",
      "gazebo 50\n",
      "clean_room 50\n",
      "igloo 50\n",
      "lock_chamber 50\n",
      "food_court 50\n",
      "monastery 50\n",
      "aqueduct 50\n",
      "theater 100\n",
      "firing_range 50\n",
      "islet 50\n",
      "sushi_bar 50\n",
      "street 50\n",
      "campus 50\n",
      "gas_station 50\n",
      "boat_deck 50\n",
      "bookstore 50\n",
      "ruin 50\n",
      "gift_shop 50\n",
      "bar 50\n",
      "staircase 50\n",
      "bamboo_forest 50\n",
      "train_station 50\n",
      "putting_green 50\n",
      "schoolhouse 50\n",
      "pulpit 50\n",
      "closet 50\n",
      "fire_escape 50\n",
      "corridor 50\n",
      "batters_box 50\n",
      "electrical_substation 50\n",
      "hangar 100\n",
      "shopping_mall 50\n",
      "cavern 50\n",
      "ice_skating_rink 100\n",
      "van_interior 50\n",
      "railroad_track 50\n",
      "rope_bridge 50\n",
      "bedroom 50\n",
      "videostore 50\n",
      "hayfield 50\n",
      "clothing_store 50\n",
      "yard 50\n",
      "home_office 50\n",
      "basilica 50\n",
      "physics_laboratory 50\n",
      "airport_terminal 50\n",
      "barn 50\n",
      "dam 50\n",
      "factory 50\n",
      "landfill 50\n",
      "fountain 50\n",
      "windmill 50\n",
      "fire_station 50\n",
      "crevasse 50\n",
      "jewelry_shop 50\n",
      "landing_deck 50\n",
      "galley 50\n",
      "playground 50\n",
      "industrial_area 50\n",
      "moat 50\n",
      "boathouse 50\n",
      "wet_bar 50\n",
      "barndoor 50\n",
      "waiting_room 50\n",
      "music_studio 50\n",
      "parking_garage 100\n",
      "temple 100\n",
      "swimming_pool 100\n",
      "dorm_room 50\n",
      "pharmacy 50\n",
      "oil_refinery 50\n",
      "computer_room 50\n",
      "parlor 50\n",
      "florist_shop 50\n",
      "utility_room 50\n",
      "ice_cream_parlor 50\n",
      "amusement_arcade 50\n",
      "art_studio 50\n",
      "shower 50\n",
      "cabin 50\n",
      "forest_path 50\n",
      "hot_spring 50\n",
      "television_studio 50\n",
      "youth_hostel 50\n",
      "lobby 50\n",
      "corral 50\n",
      "music_store 50\n",
      "auto_factory 50\n",
      "tree_farm 50\n",
      "butte 50\n",
      "gymnasium 50\n",
      "waterfall 150\n",
      "discotheque 50\n",
      "snowfield 50\n",
      "office 50\n",
      "airplane_cabin 50\n",
      "supermarket 50\n",
      "restaurant_kitchen 50\n",
      "elevator_shaft 50\n",
      "forest_road 50\n",
      "control_tower 50\n",
      "lecture_room 50\n",
      "butchers_shop 50\n"
     ]
    }
   ],
   "source": [
    "# Extra:\n",
    "# Instead of using the .txt file from above , use training.txt file,\n",
    "# and count how many of each “category” of each image there are.\n",
    "# This text file is actually a list of files corresponding to the SUN database scene recognition database,\n",
    "# and lists the file directory hierarchy for the images.\n",
    "# Once you take a look at the first line or two of the file, it will be clear which part represents the scene category.\n",
    "\n",
    "\n",
    "f = open('Training_01.txt','r')\n",
    "training_data = f.readlines()\n",
    "new_data = [i.split('/')[2] for i in training_data]\n",
    "temp = set(new_data)\n",
    "for i in temp :\n",
    "    print(i,new_data.count(i))\n",
    "f.close()"
   ]
  },
  {
   "cell_type": "code",
   "execution_count": 94,
   "id": "6077b2b4-3e25-4dfd-ab22-7dee39f205c4",
   "metadata": {
    "scrolled": true
   },
   "outputs": [
    {
     "name": "stdout",
     "output_type": "stream",
     "text": [
      "7\n",
      "13\n",
      "19\n",
      "23\n",
      "31\n",
      "79\n",
      "97\n",
      "103\n",
      "109\n",
      "139\n",
      "167\n",
      "193\n",
      "239\n",
      "263\n",
      "293\n",
      "313\n",
      "331\n",
      "367\n",
      "379\n",
      "383\n",
      "397\n",
      "409\n",
      "487\n",
      "563\n",
      "617\n",
      "653\n",
      "673\n",
      "683\n",
      "709\n",
      "739\n",
      "761\n",
      "863\n",
      "881\n",
      "907\n",
      "937\n"
     ]
    }
   ],
   "source": [
    "# 23. Given two .txt files that have lists of numbers in them, find the numbers that are overlapping.\n",
    "# One .txt file has a list of all prime numbers under 1000, and the other .txt file has a list of happy numbers up to 1000.\n",
    "\n",
    "f1 = open('primenumbers.txt','r')\n",
    "f2 = open('happynumbers.txt','r')\n",
    "\n",
    "data1 = f1.readlines()\n",
    "data2 = f2.readlines()\n",
    "\n",
    "data1 = [int(x[:-1]) if x != data1[-1] else int(x) for x in data1]\n",
    "data2 = [int(x[:-1]) if x != data2[-1] else int(x) for x in data2]\n",
    "\n",
    "# print(data1)\n",
    "# print(data2)\n",
    "\n",
    "# set(data1) & set(data2)\n",
    "\n",
    "# for i in data1 :\n",
    "#     for j in data2 :\n",
    "#         if i == j :\n",
    "#             print(i)\n",
    "#         elif i < j :\n",
    "#             break\n",
    "\n",
    "i = 0\n",
    "j = 0\n",
    "l_d1 = len(data1)\n",
    "l_d2 = len(data2)\n",
    "while i < l_d1 :\n",
    "    while j < l_d2 :\n",
    "        if data1[i] == data2[j] :\n",
    "            print(data1[i])\n",
    "        elif data1[i] < data2[j] :\n",
    "            break\n",
    "        j += 1\n",
    "    i += 1\n",
    "\n",
    "f1.close()\n",
    "f2.close()"
   ]
  },
  {
   "cell_type": "code",
   "execution_count": 248,
   "id": "12270112-e62f-40b3-93ef-2b91cdf79e8a",
   "metadata": {},
   "outputs": [
    {
     "name": "stdout",
     "output_type": "stream",
     "text": [
      " --- --- ---\n",
      "|   |   |   |   \n",
      " --- --- ---\n",
      "|   |   |   |   \n",
      " --- --- ---\n",
      "|   |   |   |   \n",
      " --- --- ---\n"
     ]
    }
   ],
   "source": [
    "# 24. draw a tic tac toe game board .\n",
    "\n",
    "def print_poles(n) :\n",
    "    print('|   '*n)\n",
    "\n",
    "def print_dashes(n) :\n",
    "    print(' ---'*n)\n",
    "\n",
    "def print_board(r,c) :\n",
    "    print_dashes(c)\n",
    "    for i in range(r) :\n",
    "        print_poles(c+1)\n",
    "        print_dashes(c)\n",
    "\n",
    "print_board(3,3)"
   ]
  },
  {
   "cell_type": "code",
   "execution_count": null,
   "id": "0f64ae56-d1e4-4b8d-abda-7ad6bf5c00c0",
   "metadata": {
    "scrolled": true
   },
   "outputs": [],
   "source": [
    "# 25. You, the user, will have in your head a number between 0 and 100.\n",
    "# The program will guess a number, and you, the user, will say whether it is too high, too low, or your number.\n",
    "# At the end of this exchange, your program should print out how many guesses it took to get your number.\n",
    "\n",
    "l = 0\n",
    "u = 100\n",
    "num = int(input('Give the number : '))\n",
    "score = 0\n",
    "\n",
    "while True :\n",
    "    m = int((l + u) / 2)\n",
    "    print('\\n')\n",
    "    print('*'*40)\n",
    "    print('\\nComp\\'s guess is :',m)\n",
    "    score += 1\n",
    "    print('\\nChoose :\\n1 - Your Number is greater.\\n2 - Your Number is smaller.\\n3 - Is your number.')\n",
    "    ask = int(input('\\nComparison with your number : '))\n",
    "    if ask == 1 :\n",
    "        # our number is greater than computer's guess\n",
    "        l = m\n",
    "    elif ask == 2 :\n",
    "        # our number is smaller than computer's guess\n",
    "        u = m\n",
    "    elif ask == 3 :\n",
    "        print('\\n{0}'.format(m),'is the number.')\n",
    "        print('Comp took',score,'turns to guess correctly.')\n",
    "        break"
   ]
  },
  {
   "cell_type": "code",
   "execution_count": 447,
   "id": "eec453c0-161b-43ad-9f1a-652ef0d2b01a",
   "metadata": {},
   "outputs": [
    {
     "data": {
      "text/plain": [
       "97"
      ]
     },
     "execution_count": 447,
     "metadata": {},
     "output_type": "execute_result"
    }
   ],
   "source": [
    "# 28. Implement a function that takes as input three variables, and returns the largest of the three.\n",
    "# Do this without using the Python max() function!\n",
    "\n",
    "# def maxOf(*args) :\n",
    "#     m = 0\n",
    "#     for i in args :\n",
    "#         if m < i :\n",
    "#             m = i\n",
    "#     return m\n",
    "\n",
    "# maxOf(4,5,9,7,4,2,8,3,1)\n",
    "\n",
    "\n",
    "def maxOf(*args) :\n",
    "    if args[0] > args[1] and args[0] > args[2] :\n",
    "        return args[0]\n",
    "    elif args[1] > args[0] and args[1] > args[2] :\n",
    "        return args[1]\n",
    "    elif args[2] > args[0] and args[2] > args[1] :\n",
    "        return args[2]\n",
    "\n",
    "maxOf(23,97,56)"
   ]
  },
  {
   "cell_type": "code",
   "execution_count": 4,
   "id": "e9cdb76b-8fb0-4a53-8c68-397a53b314a3",
   "metadata": {},
   "outputs": [
    {
     "name": "stdout",
     "output_type": "stream",
     "text": [
      "\n",
      "Welcome to the birthday dictionary. We know the birthdays of :\n",
      "hero\n",
      "zero\n",
      "good_boy\n",
      "bad_boy\n"
     ]
    },
    {
     "name": "stdin",
     "output_type": "stream",
     "text": [
      "Who's birthday do you want ? (type name case sensitive) :  hero\n"
     ]
    },
    {
     "name": "stdout",
     "output_type": "stream",
     "text": [
      "hero's DOB is : 1/2/2000\n"
     ]
    }
   ],
   "source": [
    "# 33. keep track of when our friend’s birthdays are, and be able to find that information based on their name.\n",
    "\n",
    "birthdays = {'hero':'1/2/2000','zero':'2/2/2000','good_boy':'3/2/2000','bad_boy':'4/2/2000'}\n",
    "\n",
    "def give_dob(name) :\n",
    "    return birthdays.get(name)\n",
    "\n",
    "print('\\nWelcome to the birthday dictionary. We know the birthdays of :')\n",
    "for i in birthdays :\n",
    "    print(i)\n",
    "\n",
    "name = input('Who\\'s birthday do you want ? (type name case sensitive) : ')\n",
    "print('{0}\\'s DOB is : {1}'.format(name,give_dob(name)))"
   ]
  },
  {
   "cell_type": "code",
   "execution_count": 43,
   "id": "0b485788-c122-4bbb-94bc-ba1ef66bf1b8",
   "metadata": {},
   "outputs": [],
   "source": [
    "# 34. load the birthday dictionary from a JSON file on disk, rather than having the dictionary defined in the program.\n",
    "# add more friends birthdays to the dictionary and update the json file.\n",
    "\n",
    "import json\n",
    "\n",
    "f = open('bday.json','w+')\n",
    "\n",
    "birthdays = {'hero':'1/2/2000','zero':'2/2/2000','good_boy':'3/2/2000','bad_boy':'4/2/2000'}\n",
    "\n",
    "json.dump(birthdays,f)\n",
    "\n",
    "f.close()\n",
    "\n",
    "def add_friend() :\n",
    "    name = input('What is the name of your friend ? ')\n",
    "    dob = input('What is his/her dob ? ')\n",
    "    f = open('bday.json','r')\n",
    "    d = json.load(f)\n",
    "    # print(d)\n",
    "    f.close()\n",
    "    if d.get(name) :\n",
    "        print('already in the file.')\n",
    "        if (input('do you want to update dob ? Yes[y] / No[n] : ') == 'y') :\n",
    "            d[name] = dob\n",
    "    else :\n",
    "        d[name] = dob\n",
    "    f = open('bday.json','w')\n",
    "    json.dump(d,f)\n",
    "    f.close()"
   ]
  },
  {
   "cell_type": "code",
   "execution_count": 53,
   "id": "ee12830e-d123-4368-af56-7514c366873b",
   "metadata": {},
   "outputs": [
    {
     "name": "stdin",
     "output_type": "stream",
     "text": [
      "What is the name of your friend ?  tommy\n",
      "What is his/her dob ?  1/1/2021\n"
     ]
    }
   ],
   "source": [
    "add_friend()"
   ]
  },
  {
   "cell_type": "code",
   "execution_count": 143,
   "id": "37599df4-3d28-4e2c-8282-18d042f24e03",
   "metadata": {},
   "outputs": [
    {
     "name": "stdout",
     "output_type": "stream",
     "text": [
      "Jan : 4\n",
      "Feb : 4\n",
      "Mar : 1\n"
     ]
    }
   ],
   "source": [
    "# In this exercise, load that JSON file from disk, extract the months of all the birthdays,\n",
    "# and count how many scientists have a birthday in each month.\n",
    "\n",
    "from datetime import datetime\n",
    "\n",
    "\n",
    "def month_wise_bday_counter() :\n",
    "    f = open('bday.json','r')\n",
    "    d = json.load(f)\n",
    "    f.close()\n",
    "    s = set()\n",
    "    l = []\n",
    "    for k,v in d.items() :\n",
    "        temp = datetime.strptime(v,'%d/%m/%Y').date().strftime('%b')\n",
    "        l.append(temp)\n",
    "        s.add(temp)\n",
    "    for i in s :\n",
    "        print(i,':',l.count(i))\n",
    "month_wise_bday_counter()"
   ]
  },
  {
   "cell_type": "code",
   "execution_count": 171,
   "id": "d418113f-d04f-4ef9-b199-a9c01723dd23",
   "metadata": {
    "scrolled": true
   },
   "outputs": [
    {
     "name": "stdout",
     "output_type": "stream",
     "text": [
      "None\n",
      "None\n",
      "None\n"
     ]
    },
    {
     "data": {
      "text/html": [
       "    <style>\n",
       "        .bk-notebook-logo {\n",
       "            display: block;\n",
       "            width: 20px;\n",
       "            height: 20px;\n",
       "            background-image: url(data:image/png;base64,iVBORw0KGgoAAAANSUhEUgAAABQAAAAUCAYAAACNiR0NAAAABHNCSVQICAgIfAhkiAAAAAlwSFlzAAALEgAACxIB0t1+/AAAABx0RVh0U29mdHdhcmUAQWRvYmUgRmlyZXdvcmtzIENTNui8sowAAAOkSURBVDiNjZRtaJVlGMd/1/08zzln5zjP1LWcU9N0NkN8m2CYjpgQYQXqSs0I84OLIC0hkEKoPtiH3gmKoiJDU7QpLgoLjLIQCpEsNJ1vqUOdO7ppbuec5+V+rj4ctwzd8IIbbi6u+8f1539dt3A78eXC7QizUF7gyV1fD1Yqg4JWz84yffhm0qkFqBogB9rM8tZdtwVsPUhWhGcFJngGeWrPzHm5oaMmkfEg1usvLFyc8jLRqDOMru7AyC8saQr7GG7f5fvDeH7Ej8CM66nIF+8yngt6HWaKh7k49Soy9nXurCi1o3qUbS3zWfrYeQDTB/Qj6kX6Ybhw4B+bOYoLKCC9H3Nu/leUTZ1JdRWkkn2ldcCamzrcf47KKXdAJllSlxAOkRgyHsGC/zRday5Qld9DyoM4/q/rUoy/CXh3jzOu3bHUVZeU+DEn8FInkPBFlu3+nW3Nw0mk6vCDiWg8CeJaxEwuHS3+z5RgY+YBR6V1Z1nxSOfoaPa4LASWxxdNp+VWTk7+4vzaou8v8PN+xo+KY2xsw6une2frhw05CTYOmQvsEhjhWjn0bmXPjpE1+kplmmkP3suftwTubK9Vq22qKmrBhpY4jvd5afdRA3wGjFAgcnTK2s4hY0/GPNIb0nErGMCRxWOOX64Z8RAC4oCXdklmEvcL8o0BfkNK4lUg9HTl+oPlQxdNo3Mg4Nv175e/1LDGzZen30MEjRUtmXSfiTVu1kK8W4txyV6BMKlbgk3lMwYCiusNy9fVfvvwMxv8Ynl6vxoByANLTWplvuj/nF9m2+PDtt1eiHPBr1oIfhCChQMBw6Aw0UulqTKZdfVvfG7VcfIqLG9bcldL/+pdWTLxLUy8Qq38heUIjh4XlzZxzQm19lLFlr8vdQ97rjZVOLf8nclzckbcD4wxXMidpX30sFd37Fv/GtwwhzhxGVAprjbg0gCAEeIgwCZyTV2Z1REEW8O4py0wsjeloKoMr6iCY6dP92H6Vw/oTyICIthibxjm/DfN9lVz8IqtqKYLUXfoKVMVQVVJOElGjrnnUt9T9wbgp8AyYKaGlqingHZU/uG2NTZSVqwHQTWkx9hxjkpWDaCg6Ckj5qebgBVbT3V3NNXMSiWSDdGV3hrtzla7J+duwPOToIg42ChPQOQjspnSlp1V+Gjdged7+8UN5CRAV7a5EdFNwCjEaBR27b3W890TE7g24NAP/mMDXRWrGoFPQI9ls/MWO2dWFAar/xcOIImbbpA3zgAAAABJRU5ErkJggg==);\n",
       "        }\n",
       "    </style>\n",
       "    <div>\n",
       "        <a href=\"https://bokeh.org\" target=\"_blank\" class=\"bk-notebook-logo\"></a>\n",
       "        <span id=\"ff823a1c-ad60-491b-97ab-f707f568d219\">Loading BokehJS ...</span>\n",
       "    </div>\n"
      ]
     },
     "metadata": {},
     "output_type": "display_data"
    },
    {
     "data": {
      "application/javascript": [
       "'use strict';\n",
       "(function(root) {\n",
       "  function now() {\n",
       "    return new Date();\n",
       "  }\n",
       "\n",
       "  const force = true;\n",
       "\n",
       "  if (typeof root._bokeh_onload_callbacks === \"undefined\" || force === true) {\n",
       "    root._bokeh_onload_callbacks = [];\n",
       "    root._bokeh_is_loading = undefined;\n",
       "  }\n",
       "\n",
       "const JS_MIME_TYPE = 'application/javascript';\n",
       "  const HTML_MIME_TYPE = 'text/html';\n",
       "  const EXEC_MIME_TYPE = 'application/vnd.bokehjs_exec.v0+json';\n",
       "  const CLASS_NAME = 'output_bokeh rendered_html';\n",
       "\n",
       "  /**\n",
       "   * Render data to the DOM node\n",
       "   */\n",
       "  function render(props, node) {\n",
       "    const script = document.createElement(\"script\");\n",
       "    node.appendChild(script);\n",
       "  }\n",
       "\n",
       "  /**\n",
       "   * Handle when an output is cleared or removed\n",
       "   */\n",
       "  function handleClearOutput(event, handle) {\n",
       "    function drop(id) {\n",
       "      const view = Bokeh.index.get_by_id(id)\n",
       "      if (view != null) {\n",
       "        view.model.document.clear()\n",
       "        Bokeh.index.delete(view)\n",
       "      }\n",
       "    }\n",
       "\n",
       "    const cell = handle.cell;\n",
       "\n",
       "    const id = cell.output_area._bokeh_element_id;\n",
       "    const server_id = cell.output_area._bokeh_server_id;\n",
       "\n",
       "    // Clean up Bokeh references\n",
       "    if (id != null) {\n",
       "      drop(id)\n",
       "    }\n",
       "\n",
       "    if (server_id !== undefined) {\n",
       "      // Clean up Bokeh references\n",
       "      const cmd_clean = \"from bokeh.io.state import curstate; print(curstate().uuid_to_server['\" + server_id + \"'].get_sessions()[0].document.roots[0]._id)\";\n",
       "      cell.notebook.kernel.execute(cmd_clean, {\n",
       "        iopub: {\n",
       "          output: function(msg) {\n",
       "            const id = msg.content.text.trim()\n",
       "            drop(id)\n",
       "          }\n",
       "        }\n",
       "      });\n",
       "      // Destroy server and session\n",
       "      const cmd_destroy = \"import bokeh.io.notebook as ion; ion.destroy_server('\" + server_id + \"')\";\n",
       "      cell.notebook.kernel.execute(cmd_destroy);\n",
       "    }\n",
       "  }\n",
       "\n",
       "  /**\n",
       "   * Handle when a new output is added\n",
       "   */\n",
       "  function handleAddOutput(event, handle) {\n",
       "    const output_area = handle.output_area;\n",
       "    const output = handle.output;\n",
       "\n",
       "    // limit handleAddOutput to display_data with EXEC_MIME_TYPE content only\n",
       "    if ((output.output_type != \"display_data\") || (!Object.prototype.hasOwnProperty.call(output.data, EXEC_MIME_TYPE))) {\n",
       "      return\n",
       "    }\n",
       "\n",
       "    const toinsert = output_area.element.find(\".\" + CLASS_NAME.split(' ')[0]);\n",
       "\n",
       "    if (output.metadata[EXEC_MIME_TYPE][\"id\"] !== undefined) {\n",
       "      toinsert[toinsert.length - 1].firstChild.textContent = output.data[JS_MIME_TYPE];\n",
       "      // store reference to embed id on output_area\n",
       "      output_area._bokeh_element_id = output.metadata[EXEC_MIME_TYPE][\"id\"];\n",
       "    }\n",
       "    if (output.metadata[EXEC_MIME_TYPE][\"server_id\"] !== undefined) {\n",
       "      const bk_div = document.createElement(\"div\");\n",
       "      bk_div.innerHTML = output.data[HTML_MIME_TYPE];\n",
       "      const script_attrs = bk_div.children[0].attributes;\n",
       "      for (let i = 0; i < script_attrs.length; i++) {\n",
       "        toinsert[toinsert.length - 1].firstChild.setAttribute(script_attrs[i].name, script_attrs[i].value);\n",
       "        toinsert[toinsert.length - 1].firstChild.textContent = bk_div.children[0].textContent\n",
       "      }\n",
       "      // store reference to server id on output_area\n",
       "      output_area._bokeh_server_id = output.metadata[EXEC_MIME_TYPE][\"server_id\"];\n",
       "    }\n",
       "  }\n",
       "\n",
       "  function register_renderer(events, OutputArea) {\n",
       "\n",
       "    function append_mime(data, metadata, element) {\n",
       "      // create a DOM node to render to\n",
       "      const toinsert = this.create_output_subarea(\n",
       "        metadata,\n",
       "        CLASS_NAME,\n",
       "        EXEC_MIME_TYPE\n",
       "      );\n",
       "      this.keyboard_manager.register_events(toinsert);\n",
       "      // Render to node\n",
       "      const props = {data: data, metadata: metadata[EXEC_MIME_TYPE]};\n",
       "      render(props, toinsert[toinsert.length - 1]);\n",
       "      element.append(toinsert);\n",
       "      return toinsert\n",
       "    }\n",
       "\n",
       "    /* Handle when an output is cleared or removed */\n",
       "    events.on('clear_output.CodeCell', handleClearOutput);\n",
       "    events.on('delete.Cell', handleClearOutput);\n",
       "\n",
       "    /* Handle when a new output is added */\n",
       "    events.on('output_added.OutputArea', handleAddOutput);\n",
       "\n",
       "    /**\n",
       "     * Register the mime type and append_mime function with output_area\n",
       "     */\n",
       "    OutputArea.prototype.register_mime_type(EXEC_MIME_TYPE, append_mime, {\n",
       "      /* Is output safe? */\n",
       "      safe: true,\n",
       "      /* Index of renderer in `output_area.display_order` */\n",
       "      index: 0\n",
       "    });\n",
       "  }\n",
       "\n",
       "  // register the mime type if in Jupyter Notebook environment and previously unregistered\n",
       "  if (root.Jupyter !== undefined) {\n",
       "    const events = require('base/js/events');\n",
       "    const OutputArea = require('notebook/js/outputarea').OutputArea;\n",
       "\n",
       "    if (OutputArea.prototype.mime_types().indexOf(EXEC_MIME_TYPE) == -1) {\n",
       "      register_renderer(events, OutputArea);\n",
       "    }\n",
       "  }\n",
       "  if (typeof (root._bokeh_timeout) === \"undefined\" || force === true) {\n",
       "    root._bokeh_timeout = Date.now() + 5000;\n",
       "    root._bokeh_failed_load = false;\n",
       "  }\n",
       "\n",
       "  const NB_LOAD_WARNING = {'data': {'text/html':\n",
       "     \"<div style='background-color: #fdd'>\\n\"+\n",
       "     \"<p>\\n\"+\n",
       "     \"BokehJS does not appear to have successfully loaded. If loading BokehJS from CDN, this \\n\"+\n",
       "     \"may be due to a slow or bad network connection. Possible fixes:\\n\"+\n",
       "     \"</p>\\n\"+\n",
       "     \"<ul>\\n\"+\n",
       "     \"<li>re-rerun `output_notebook()` to attempt to load from CDN again, or</li>\\n\"+\n",
       "     \"<li>use INLINE resources instead, as so:</li>\\n\"+\n",
       "     \"</ul>\\n\"+\n",
       "     \"<code>\\n\"+\n",
       "     \"from bokeh.resources import INLINE\\n\"+\n",
       "     \"output_notebook(resources=INLINE)\\n\"+\n",
       "     \"</code>\\n\"+\n",
       "     \"</div>\"}};\n",
       "\n",
       "  function display_loaded(error = null) {\n",
       "    const el = document.getElementById(\"ff823a1c-ad60-491b-97ab-f707f568d219\");\n",
       "    if (el != null) {\n",
       "      const html = (() => {\n",
       "        if (typeof root.Bokeh === \"undefined\") {\n",
       "          if (error == null) {\n",
       "            return \"BokehJS is loading ...\";\n",
       "          } else {\n",
       "            return \"BokehJS failed to load.\";\n",
       "          }\n",
       "        } else {\n",
       "          const prefix = `BokehJS ${root.Bokeh.version}`;\n",
       "          if (error == null) {\n",
       "            return `${prefix} successfully loaded.`;\n",
       "          } else {\n",
       "            return `${prefix} <b>encountered errors</b> while loading and may not function as expected.`;\n",
       "          }\n",
       "        }\n",
       "      })();\n",
       "      el.innerHTML = html;\n",
       "\n",
       "      if (error != null) {\n",
       "        const wrapper = document.createElement(\"div\");\n",
       "        wrapper.style.overflow = \"auto\";\n",
       "        wrapper.style.height = \"5em\";\n",
       "        wrapper.style.resize = \"vertical\";\n",
       "        const content = document.createElement(\"div\");\n",
       "        content.style.fontFamily = \"monospace\";\n",
       "        content.style.whiteSpace = \"pre-wrap\";\n",
       "        content.style.backgroundColor = \"rgb(255, 221, 221)\";\n",
       "        content.textContent = error.stack ?? error.toString();\n",
       "        wrapper.append(content);\n",
       "        el.append(wrapper);\n",
       "      }\n",
       "    } else if (Date.now() < root._bokeh_timeout) {\n",
       "      setTimeout(() => display_loaded(error), 100);\n",
       "    }\n",
       "  }\n",
       "\n",
       "  function run_callbacks() {\n",
       "    try {\n",
       "      root._bokeh_onload_callbacks.forEach(function(callback) {\n",
       "        if (callback != null)\n",
       "          callback();\n",
       "      });\n",
       "    } finally {\n",
       "      delete root._bokeh_onload_callbacks\n",
       "    }\n",
       "    console.debug(\"Bokeh: all callbacks have finished\");\n",
       "  }\n",
       "\n",
       "  function load_libs(css_urls, js_urls, callback) {\n",
       "    if (css_urls == null) css_urls = [];\n",
       "    if (js_urls == null) js_urls = [];\n",
       "\n",
       "    root._bokeh_onload_callbacks.push(callback);\n",
       "    if (root._bokeh_is_loading > 0) {\n",
       "      console.debug(\"Bokeh: BokehJS is being loaded, scheduling callback at\", now());\n",
       "      return null;\n",
       "    }\n",
       "    if (js_urls == null || js_urls.length === 0) {\n",
       "      run_callbacks();\n",
       "      return null;\n",
       "    }\n",
       "    console.debug(\"Bokeh: BokehJS not loaded, scheduling load and callback at\", now());\n",
       "    root._bokeh_is_loading = css_urls.length + js_urls.length;\n",
       "\n",
       "    function on_load() {\n",
       "      root._bokeh_is_loading--;\n",
       "      if (root._bokeh_is_loading === 0) {\n",
       "        console.debug(\"Bokeh: all BokehJS libraries/stylesheets loaded\");\n",
       "        run_callbacks()\n",
       "      }\n",
       "    }\n",
       "\n",
       "    function on_error(url) {\n",
       "      console.error(\"failed to load \" + url);\n",
       "    }\n",
       "\n",
       "    for (let i = 0; i < css_urls.length; i++) {\n",
       "      const url = css_urls[i];\n",
       "      const element = document.createElement(\"link\");\n",
       "      element.onload = on_load;\n",
       "      element.onerror = on_error.bind(null, url);\n",
       "      element.rel = \"stylesheet\";\n",
       "      element.type = \"text/css\";\n",
       "      element.href = url;\n",
       "      console.debug(\"Bokeh: injecting link tag for BokehJS stylesheet: \", url);\n",
       "      document.body.appendChild(element);\n",
       "    }\n",
       "\n",
       "    for (let i = 0; i < js_urls.length; i++) {\n",
       "      const url = js_urls[i];\n",
       "      const element = document.createElement('script');\n",
       "      element.onload = on_load;\n",
       "      element.onerror = on_error.bind(null, url);\n",
       "      element.async = false;\n",
       "      element.src = url;\n",
       "      console.debug(\"Bokeh: injecting script tag for BokehJS library: \", url);\n",
       "      document.head.appendChild(element);\n",
       "    }\n",
       "  };\n",
       "\n",
       "  function inject_raw_css(css) {\n",
       "    const element = document.createElement(\"style\");\n",
       "    element.appendChild(document.createTextNode(css));\n",
       "    document.body.appendChild(element);\n",
       "  }\n",
       "\n",
       "  const js_urls = [\"https://cdn.bokeh.org/bokeh/release/bokeh-3.4.1.min.js\", \"https://cdn.bokeh.org/bokeh/release/bokeh-gl-3.4.1.min.js\", \"https://cdn.bokeh.org/bokeh/release/bokeh-widgets-3.4.1.min.js\", \"https://cdn.bokeh.org/bokeh/release/bokeh-tables-3.4.1.min.js\", \"https://cdn.bokeh.org/bokeh/release/bokeh-mathjax-3.4.1.min.js\"];\n",
       "  const css_urls = [];\n",
       "\n",
       "  const inline_js = [    function(Bokeh) {\n",
       "      Bokeh.set_log_level(\"info\");\n",
       "    },\n",
       "function(Bokeh) {\n",
       "    }\n",
       "  ];\n",
       "\n",
       "  function run_inline_js() {\n",
       "    if (root.Bokeh !== undefined || force === true) {\n",
       "      try {\n",
       "            for (let i = 0; i < inline_js.length; i++) {\n",
       "      inline_js[i].call(root, root.Bokeh);\n",
       "    }\n",
       "\n",
       "      } catch (error) {display_loaded(error);throw error;\n",
       "      }if (force === true) {\n",
       "        display_loaded();\n",
       "      }} else if (Date.now() < root._bokeh_timeout) {\n",
       "      setTimeout(run_inline_js, 100);\n",
       "    } else if (!root._bokeh_failed_load) {\n",
       "      console.log(\"Bokeh: BokehJS failed to load within specified timeout.\");\n",
       "      root._bokeh_failed_load = true;\n",
       "    } else if (force !== true) {\n",
       "      const cell = $(document.getElementById(\"ff823a1c-ad60-491b-97ab-f707f568d219\")).parents('.cell').data().cell;\n",
       "      cell.output_area.append_execute_result(NB_LOAD_WARNING)\n",
       "    }\n",
       "  }\n",
       "\n",
       "  if (root._bokeh_is_loading === 0) {\n",
       "    console.debug(\"Bokeh: BokehJS loaded, going straight to plotting\");\n",
       "    run_inline_js();\n",
       "  } else {\n",
       "    load_libs(css_urls, js_urls, function() {\n",
       "      console.debug(\"Bokeh: BokehJS plotting callback run at\", now());\n",
       "      run_inline_js();\n",
       "    });\n",
       "  }\n",
       "}(window));"
      ],
      "application/vnd.bokehjs_load.v0+json": "'use strict';\n(function(root) {\n  function now() {\n    return new Date();\n  }\n\n  const force = true;\n\n  if (typeof root._bokeh_onload_callbacks === \"undefined\" || force === true) {\n    root._bokeh_onload_callbacks = [];\n    root._bokeh_is_loading = undefined;\n  }\n\n\n  if (typeof (root._bokeh_timeout) === \"undefined\" || force === true) {\n    root._bokeh_timeout = Date.now() + 5000;\n    root._bokeh_failed_load = false;\n  }\n\n  const NB_LOAD_WARNING = {'data': {'text/html':\n     \"<div style='background-color: #fdd'>\\n\"+\n     \"<p>\\n\"+\n     \"BokehJS does not appear to have successfully loaded. If loading BokehJS from CDN, this \\n\"+\n     \"may be due to a slow or bad network connection. Possible fixes:\\n\"+\n     \"</p>\\n\"+\n     \"<ul>\\n\"+\n     \"<li>re-rerun `output_notebook()` to attempt to load from CDN again, or</li>\\n\"+\n     \"<li>use INLINE resources instead, as so:</li>\\n\"+\n     \"</ul>\\n\"+\n     \"<code>\\n\"+\n     \"from bokeh.resources import INLINE\\n\"+\n     \"output_notebook(resources=INLINE)\\n\"+\n     \"</code>\\n\"+\n     \"</div>\"}};\n\n  function display_loaded(error = null) {\n    const el = document.getElementById(\"ff823a1c-ad60-491b-97ab-f707f568d219\");\n    if (el != null) {\n      const html = (() => {\n        if (typeof root.Bokeh === \"undefined\") {\n          if (error == null) {\n            return \"BokehJS is loading ...\";\n          } else {\n            return \"BokehJS failed to load.\";\n          }\n        } else {\n          const prefix = `BokehJS ${root.Bokeh.version}`;\n          if (error == null) {\n            return `${prefix} successfully loaded.`;\n          } else {\n            return `${prefix} <b>encountered errors</b> while loading and may not function as expected.`;\n          }\n        }\n      })();\n      el.innerHTML = html;\n\n      if (error != null) {\n        const wrapper = document.createElement(\"div\");\n        wrapper.style.overflow = \"auto\";\n        wrapper.style.height = \"5em\";\n        wrapper.style.resize = \"vertical\";\n        const content = document.createElement(\"div\");\n        content.style.fontFamily = \"monospace\";\n        content.style.whiteSpace = \"pre-wrap\";\n        content.style.backgroundColor = \"rgb(255, 221, 221)\";\n        content.textContent = error.stack ?? error.toString();\n        wrapper.append(content);\n        el.append(wrapper);\n      }\n    } else if (Date.now() < root._bokeh_timeout) {\n      setTimeout(() => display_loaded(error), 100);\n    }\n  }\n\n  function run_callbacks() {\n    try {\n      root._bokeh_onload_callbacks.forEach(function(callback) {\n        if (callback != null)\n          callback();\n      });\n    } finally {\n      delete root._bokeh_onload_callbacks\n    }\n    console.debug(\"Bokeh: all callbacks have finished\");\n  }\n\n  function load_libs(css_urls, js_urls, callback) {\n    if (css_urls == null) css_urls = [];\n    if (js_urls == null) js_urls = [];\n\n    root._bokeh_onload_callbacks.push(callback);\n    if (root._bokeh_is_loading > 0) {\n      console.debug(\"Bokeh: BokehJS is being loaded, scheduling callback at\", now());\n      return null;\n    }\n    if (js_urls == null || js_urls.length === 0) {\n      run_callbacks();\n      return null;\n    }\n    console.debug(\"Bokeh: BokehJS not loaded, scheduling load and callback at\", now());\n    root._bokeh_is_loading = css_urls.length + js_urls.length;\n\n    function on_load() {\n      root._bokeh_is_loading--;\n      if (root._bokeh_is_loading === 0) {\n        console.debug(\"Bokeh: all BokehJS libraries/stylesheets loaded\");\n        run_callbacks()\n      }\n    }\n\n    function on_error(url) {\n      console.error(\"failed to load \" + url);\n    }\n\n    for (let i = 0; i < css_urls.length; i++) {\n      const url = css_urls[i];\n      const element = document.createElement(\"link\");\n      element.onload = on_load;\n      element.onerror = on_error.bind(null, url);\n      element.rel = \"stylesheet\";\n      element.type = \"text/css\";\n      element.href = url;\n      console.debug(\"Bokeh: injecting link tag for BokehJS stylesheet: \", url);\n      document.body.appendChild(element);\n    }\n\n    for (let i = 0; i < js_urls.length; i++) {\n      const url = js_urls[i];\n      const element = document.createElement('script');\n      element.onload = on_load;\n      element.onerror = on_error.bind(null, url);\n      element.async = false;\n      element.src = url;\n      console.debug(\"Bokeh: injecting script tag for BokehJS library: \", url);\n      document.head.appendChild(element);\n    }\n  };\n\n  function inject_raw_css(css) {\n    const element = document.createElement(\"style\");\n    element.appendChild(document.createTextNode(css));\n    document.body.appendChild(element);\n  }\n\n  const js_urls = [\"https://cdn.bokeh.org/bokeh/release/bokeh-3.4.1.min.js\", \"https://cdn.bokeh.org/bokeh/release/bokeh-gl-3.4.1.min.js\", \"https://cdn.bokeh.org/bokeh/release/bokeh-widgets-3.4.1.min.js\", \"https://cdn.bokeh.org/bokeh/release/bokeh-tables-3.4.1.min.js\", \"https://cdn.bokeh.org/bokeh/release/bokeh-mathjax-3.4.1.min.js\"];\n  const css_urls = [];\n\n  const inline_js = [    function(Bokeh) {\n      Bokeh.set_log_level(\"info\");\n    },\nfunction(Bokeh) {\n    }\n  ];\n\n  function run_inline_js() {\n    if (root.Bokeh !== undefined || force === true) {\n      try {\n            for (let i = 0; i < inline_js.length; i++) {\n      inline_js[i].call(root, root.Bokeh);\n    }\n\n      } catch (error) {display_loaded(error);throw error;\n      }if (force === true) {\n        display_loaded();\n      }} else if (Date.now() < root._bokeh_timeout) {\n      setTimeout(run_inline_js, 100);\n    } else if (!root._bokeh_failed_load) {\n      console.log(\"Bokeh: BokehJS failed to load within specified timeout.\");\n      root._bokeh_failed_load = true;\n    } else if (force !== true) {\n      const cell = $(document.getElementById(\"ff823a1c-ad60-491b-97ab-f707f568d219\")).parents('.cell').data().cell;\n      cell.output_area.append_execute_result(NB_LOAD_WARNING)\n    }\n  }\n\n  if (root._bokeh_is_loading === 0) {\n    console.debug(\"Bokeh: BokehJS loaded, going straight to plotting\");\n    run_inline_js();\n  } else {\n    load_libs(css_urls, js_urls, function() {\n      console.debug(\"Bokeh: BokehJS plotting callback run at\", now());\n      run_inline_js();\n    });\n  }\n}(window));"
     },
     "metadata": {},
     "output_type": "display_data"
    },
    {
     "data": {
      "text/html": [
       "\n",
       "  <div id=\"d54d2d21-0578-4ffb-b098-77239bd53dd9\" data-root-id=\"p1368\" style=\"display: contents;\"></div>\n"
      ]
     },
     "metadata": {},
     "output_type": "display_data"
    },
    {
     "data": {
      "application/javascript": [
       "(function(root) {\n",
       "  function embed_document(root) {\n",
       "  const docs_json = {\"4fc33a6b-12c4-4fc3-9cfb-a8b8db7e68cc\":{\"version\":\"3.4.1\",\"title\":\"Bokeh Application\",\"roots\":[{\"type\":\"object\",\"name\":\"Figure\",\"id\":\"p1368\",\"attributes\":{\"height\":350,\"x_range\":{\"type\":\"object\",\"name\":\"FactorRange\",\"id\":\"p1378\",\"attributes\":{\"factors\":[\"Jan\",\"Feb\",\"Mar\"]}},\"y_range\":{\"type\":\"object\",\"name\":\"DataRange1d\",\"id\":\"p1370\",\"attributes\":{\"start\":0}},\"x_scale\":{\"type\":\"object\",\"name\":\"CategoricalScale\",\"id\":\"p1379\"},\"y_scale\":{\"type\":\"object\",\"name\":\"LinearScale\",\"id\":\"p1380\"},\"title\":{\"type\":\"object\",\"name\":\"Title\",\"id\":\"p1371\",\"attributes\":{\"text\":\"Bday Months\"}},\"renderers\":[{\"type\":\"object\",\"name\":\"GlyphRenderer\",\"id\":\"p1408\",\"attributes\":{\"data_source\":{\"type\":\"object\",\"name\":\"ColumnDataSource\",\"id\":\"p1402\",\"attributes\":{\"selected\":{\"type\":\"object\",\"name\":\"Selection\",\"id\":\"p1403\",\"attributes\":{\"indices\":[],\"line_indices\":[]}},\"selection_policy\":{\"type\":\"object\",\"name\":\"UnionRenderers\",\"id\":\"p1404\"},\"data\":{\"type\":\"map\",\"entries\":[[\"x\",[\"Jan\",\"Feb\",\"Mar\"]],[\"top\",[4,4,1]]]}}},\"view\":{\"type\":\"object\",\"name\":\"CDSView\",\"id\":\"p1409\",\"attributes\":{\"filter\":{\"type\":\"object\",\"name\":\"AllIndices\",\"id\":\"p1410\"}}},\"glyph\":{\"type\":\"object\",\"name\":\"VBar\",\"id\":\"p1405\",\"attributes\":{\"x\":{\"type\":\"field\",\"field\":\"x\"},\"width\":{\"type\":\"value\",\"value\":0.5},\"top\":{\"type\":\"field\",\"field\":\"top\"},\"line_color\":{\"type\":\"value\",\"value\":\"#1f77b4\"},\"fill_color\":{\"type\":\"value\",\"value\":\"#1f77b4\"}}},\"nonselection_glyph\":{\"type\":\"object\",\"name\":\"VBar\",\"id\":\"p1406\",\"attributes\":{\"x\":{\"type\":\"field\",\"field\":\"x\"},\"width\":{\"type\":\"value\",\"value\":0.5},\"top\":{\"type\":\"field\",\"field\":\"top\"},\"line_color\":{\"type\":\"value\",\"value\":\"#1f77b4\"},\"line_alpha\":{\"type\":\"value\",\"value\":0.1},\"fill_color\":{\"type\":\"value\",\"value\":\"#1f77b4\"},\"fill_alpha\":{\"type\":\"value\",\"value\":0.1},\"hatch_alpha\":{\"type\":\"value\",\"value\":0.1}}},\"muted_glyph\":{\"type\":\"object\",\"name\":\"VBar\",\"id\":\"p1407\",\"attributes\":{\"x\":{\"type\":\"field\",\"field\":\"x\"},\"width\":{\"type\":\"value\",\"value\":0.5},\"top\":{\"type\":\"field\",\"field\":\"top\"},\"line_color\":{\"type\":\"value\",\"value\":\"#1f77b4\"},\"line_alpha\":{\"type\":\"value\",\"value\":0.2},\"fill_color\":{\"type\":\"value\",\"value\":\"#1f77b4\"},\"fill_alpha\":{\"type\":\"value\",\"value\":0.2},\"hatch_alpha\":{\"type\":\"value\",\"value\":0.2}}}}}],\"toolbar\":{\"type\":\"object\",\"name\":\"Toolbar\",\"id\":\"p1377\",\"attributes\":{\"tools\":[{\"type\":\"object\",\"name\":\"PanTool\",\"id\":\"p1391\"},{\"type\":\"object\",\"name\":\"WheelZoomTool\",\"id\":\"p1392\",\"attributes\":{\"renderers\":\"auto\"}},{\"type\":\"object\",\"name\":\"BoxZoomTool\",\"id\":\"p1393\",\"attributes\":{\"overlay\":{\"type\":\"object\",\"name\":\"BoxAnnotation\",\"id\":\"p1394\",\"attributes\":{\"syncable\":false,\"level\":\"overlay\",\"visible\":false,\"left\":{\"type\":\"number\",\"value\":\"nan\"},\"right\":{\"type\":\"number\",\"value\":\"nan\"},\"top\":{\"type\":\"number\",\"value\":\"nan\"},\"bottom\":{\"type\":\"number\",\"value\":\"nan\"},\"left_units\":\"canvas\",\"right_units\":\"canvas\",\"top_units\":\"canvas\",\"bottom_units\":\"canvas\",\"line_color\":\"black\",\"line_alpha\":1.0,\"line_width\":2,\"line_dash\":[4,4],\"fill_color\":\"lightgrey\",\"fill_alpha\":0.5}}}},{\"type\":\"object\",\"name\":\"SaveTool\",\"id\":\"p1399\"},{\"type\":\"object\",\"name\":\"ResetTool\",\"id\":\"p1400\"},{\"type\":\"object\",\"name\":\"HelpTool\",\"id\":\"p1401\"}]}},\"left\":[{\"type\":\"object\",\"name\":\"LinearAxis\",\"id\":\"p1386\",\"attributes\":{\"ticker\":{\"type\":\"object\",\"name\":\"BasicTicker\",\"id\":\"p1387\",\"attributes\":{\"mantissas\":[1,2,5]}},\"formatter\":{\"type\":\"object\",\"name\":\"BasicTickFormatter\",\"id\":\"p1388\"},\"major_label_policy\":{\"type\":\"object\",\"name\":\"AllLabels\",\"id\":\"p1389\"}}}],\"below\":[{\"type\":\"object\",\"name\":\"CategoricalAxis\",\"id\":\"p1381\",\"attributes\":{\"ticker\":{\"type\":\"object\",\"name\":\"CategoricalTicker\",\"id\":\"p1382\"},\"formatter\":{\"type\":\"object\",\"name\":\"CategoricalTickFormatter\",\"id\":\"p1383\"},\"major_label_policy\":{\"type\":\"object\",\"name\":\"AllLabels\",\"id\":\"p1384\"}}}],\"center\":[{\"type\":\"object\",\"name\":\"Grid\",\"id\":\"p1385\",\"attributes\":{\"axis\":{\"id\":\"p1381\"},\"grid_line_color\":null}},{\"type\":\"object\",\"name\":\"Grid\",\"id\":\"p1390\",\"attributes\":{\"dimension\":1,\"axis\":{\"id\":\"p1386\"}}}]}}]}};\n",
       "  const render_items = [{\"docid\":\"4fc33a6b-12c4-4fc3-9cfb-a8b8db7e68cc\",\"roots\":{\"p1368\":\"d54d2d21-0578-4ffb-b098-77239bd53dd9\"},\"root_ids\":[\"p1368\"]}];\n",
       "  void root.Bokeh.embed.embed_items_notebook(docs_json, render_items);\n",
       "  }\n",
       "  if (root.Bokeh !== undefined) {\n",
       "    embed_document(root);\n",
       "  } else {\n",
       "    let attempts = 0;\n",
       "    const timer = setInterval(function(root) {\n",
       "      if (root.Bokeh !== undefined) {\n",
       "        clearInterval(timer);\n",
       "        embed_document(root);\n",
       "      } else {\n",
       "        attempts++;\n",
       "        if (attempts > 100) {\n",
       "          clearInterval(timer);\n",
       "          console.log(\"Bokeh: ERROR: Unable to run BokehJS code because BokehJS library is missing\");\n",
       "        }\n",
       "      }\n",
       "    }, 10, root)\n",
       "  }\n",
       "})(window);"
      ],
      "application/vnd.bokehjs_exec.v0+json": ""
     },
     "metadata": {
      "application/vnd.bokehjs_exec.v0+json": {
       "id": "p1368"
      }
     },
     "output_type": "display_data"
    }
   ],
   "source": [
    "from bokeh.plotting import figure, show\n",
    "from bokeh.io import output_notebook\n",
    "\n",
    "counts = []\n",
    "\n",
    "f = open('bday.json','r')\n",
    "d = json.load(f)\n",
    "f.close()\n",
    "s = set()\n",
    "l = []\n",
    "for k,v in d.items() :\n",
    "    temp = datetime.strptime(v,'%d/%m/%Y').date().strftime('%b')\n",
    "    l.append(temp)\n",
    "    s.add(temp)\n",
    "for i in s :\n",
    "    print(counts.append(l.count(i)))\n",
    "\n",
    "s = list(s)\n",
    "\n",
    "output_notebook() # for loading the bokeh graph in notebook itself\n",
    "\n",
    "p = figure(x_range=s, height=350, title=\"Bday Months\")\n",
    "\n",
    "p.vbar(x=s, top=counts, width=0.5)\n",
    "\n",
    "p.xgrid.grid_line_color = None\n",
    "p.y_range.start = 0\n",
    "\n",
    "show(p)"
   ]
  },
  {
   "cell_type": "code",
   "execution_count": 14,
   "id": "dbd9ac14-2647-419f-9904-8ef23e89c5f4",
   "metadata": {},
   "outputs": [
    {
     "name": "stdout",
     "output_type": "stream",
     "text": [
      " --- --- ---\n",
      "|   |   |   |\n",
      " --- --- ---\n",
      "|   |   |   |\n",
      " --- --- ---\n",
      "|   |   |   |\n",
      " --- --- ---\n"
     ]
    }
   ],
   "source": [
    "# 37. refactor code ... print gameboard for Tic Tac Toe using functions ... which i already did ... but still ...\n",
    "\n",
    "def print_dashes(c) :\n",
    "    print(' ---'*c)\n",
    "\n",
    "def print_rows(c) :\n",
    "    print('|   '*c+'|')\n",
    "\n",
    "def print_Game_Board(r,c) :\n",
    "    for i in range(r) :\n",
    "        print_dashes(c)\n",
    "        print_rows(c)\n",
    "    print_dashes(c)\n",
    "\n",
    "print_Game_Board(3,3)"
   ]
  },
  {
   "cell_type": "code",
   "execution_count": 18,
   "id": "53d129b6-a0f0-4047-9b24-5876c5cc24b9",
   "metadata": {},
   "outputs": [
    {
     "name": "stdin",
     "output_type": "stream",
     "text": [
      "what is name & age ? (enter comma seperated) :  kaus,24\n"
     ]
    },
    {
     "name": "stdout",
     "output_type": "stream",
     "text": [
      "kaus will turn 100 years old in the year 2100.\n"
     ]
    }
   ],
   "source": [
    "# 38. use f strings for excercise 1\n",
    "\n",
    "name,age = input('what is name & age ? (enter comma seperated) : ').split(',')\n",
    "print(f\"{name} will turn 100 years old in the year {100-int(age)+2024}.\")"
   ]
  },
  {
   "cell_type": "code",
   "execution_count": 20,
   "id": "3efe3199-41df-477b-99c3-42b21957aba4",
   "metadata": {},
   "outputs": [
    {
     "name": "stdin",
     "output_type": "stream",
     "text": [
      "what is name & age ? (enter comma seperated) :  kaus,24\n"
     ]
    },
    {
     "name": "stdout",
     "output_type": "stream",
     "text": [
      "kaus will turn 100 years old in the year 2100.\n"
     ]
    }
   ],
   "source": [
    "# 39. modify above code to work with all years ...\n",
    "from datetime import datetime\n",
    "\n",
    "name,age = input('what is name & age ? (enter comma seperated) : ').split(',')\n",
    "print(f\"{name} will turn 100 years old in the year {100-int(age)+datetime.now().year}.\")"
   ]
  },
  {
   "cell_type": "code",
   "execution_count": 26,
   "id": "3522915d-e0ad-43d8-9447-154b1b6bb055",
   "metadata": {
    "scrolled": true
   },
   "outputs": [
    {
     "name": "stdin",
     "output_type": "stream",
     "text": [
      "Guess a number between 1 to 10 or 'e' for exit :  12\n"
     ]
    },
    {
     "name": "stdout",
     "output_type": "stream",
     "text": [
      "\n",
      "The number entered is not between 1 and 10.\n",
      "Please! try again.\n",
      "\n"
     ]
    },
    {
     "name": "stdin",
     "output_type": "stream",
     "text": [
      "Guess a number between 1 to 10 or 'e' for exit :  -1\n"
     ]
    },
    {
     "name": "stdout",
     "output_type": "stream",
     "text": [
      "\n",
      "The number entered is not between 1 and 10.\n",
      "Please! try again.\n",
      "\n"
     ]
    },
    {
     "name": "stdin",
     "output_type": "stream",
     "text": [
      "Guess a number between 1 to 10 or 'e' for exit :  0\n"
     ]
    },
    {
     "name": "stdout",
     "output_type": "stream",
     "text": [
      "\n",
      "The number entered is not between 1 and 10.\n",
      "Please! try again.\n",
      "\n"
     ]
    },
    {
     "name": "stdin",
     "output_type": "stream",
     "text": [
      "Guess a number between 1 to 10 or 'e' for exit :  11\n"
     ]
    },
    {
     "name": "stdout",
     "output_type": "stream",
     "text": [
      "\n",
      "The number entered is not between 1 and 10.\n",
      "Please! try again.\n",
      "\n"
     ]
    },
    {
     "name": "stdin",
     "output_type": "stream",
     "text": [
      "Guess a number between 1 to 10 or 'e' for exit :  1\n",
      "Guess a number between 1 to 10 or 'e' for exit :  10\n",
      "Guess a number between 1 to 10 or 'e' for exit :  e\n"
     ]
    },
    {
     "name": "stdout",
     "output_type": "stream",
     "text": [
      "you scored 0 in 2 turns\n"
     ]
    }
   ],
   "source": [
    "# 40. just add error checking in the excercise 9 solution.\n",
    "import random\n",
    "\n",
    "tracker_t = 0\n",
    "score = 0\n",
    "\n",
    "while True :\n",
    "    user_inp = input(\"Guess a number between 1 to 10 or 'e' for exit : \")\n",
    "    try :\n",
    "        if user_inp == 'e' :\n",
    "            break\n",
    "        elif int(user_inp) > 0 and int(user_inp) < 11 :\n",
    "            n = random.randint(1,10)\n",
    "            if int(user_inp) == n :\n",
    "                score += 1\n",
    "            tracker_t += 1\n",
    "        else :\n",
    "            raise ValueError('\\nThe number entered is not between 1 and 10.\\nPlease! try again.\\n')\n",
    "    except ValueError as e :\n",
    "    \tprint(e)\n",
    "\n",
    "print('you scored {0} in {1} turns'.format(score,tracker_t))"
   ]
  },
  {
   "cell_type": "code",
   "execution_count": null,
   "id": "cbe0e94c-be38-4d2a-b9dc-5b63e602971a",
   "metadata": {},
   "outputs": [],
   "source": []
  },
  {
   "cell_type": "code",
   "execution_count": null,
   "id": "cbb056d5-2b06-4643-a128-132d5c466492",
   "metadata": {},
   "outputs": [],
   "source": []
  },
  {
   "cell_type": "markdown",
   "id": "8af229cf-0c1d-4815-8d24-001ef57a3245",
   "metadata": {
    "jp-MarkdownHeadingCollapsed": true
   },
   "source": [
    "## Password Generator Project"
   ]
  },
  {
   "cell_type": "code",
   "execution_count": 348,
   "id": "3063c469-3520-4491-a07f-53d7407a5be0",
   "metadata": {},
   "outputs": [
    {
     "name": "stdout",
     "output_type": "stream",
     "text": [
      "<5s\\71{\"82p9DY<\n"
     ]
    }
   ],
   "source": [
    "# 16. Write a password generator in Python. Be creative with how you generate passwords\n",
    "# - strong passwords have a mix of lowercase letters, uppercase letters, numbers, and symbols.\n",
    "# The passwords should be random, generating a new password every time the user asks for a new password.\n",
    "# Include your run-time code in a main method.\n",
    "\n",
    "# Extra:\n",
    "# Ask the user how strong they want their password to be. For weak passwords, pick a word or two from a list.\n",
    "\n",
    "import random\n",
    "import string\n",
    "\n",
    "\n",
    "def random_generator(v=0) : # setting a default value because calling with no args from weak password logic\n",
    "    \n",
    "    special_chars = string.punctuation\n",
    "    chars = string.ascii_letters\n",
    "    digits = string.digits\n",
    "    \n",
    "    a = 0 # setting a to zero just to return only number for weak passwords\n",
    "    if v == 1 :\n",
    "        a = random.choice([2,0]) # can choose between digits and chars\n",
    "    elif v == 2 :\n",
    "        a = random.choice([1,2,0]) # can choose between digits , chars and special chars\n",
    "    \n",
    "    if a == 1 :\n",
    "        return random.choice(special_chars)\n",
    "    elif a == 2 :\n",
    "        return random.choice(chars)\n",
    "    else :\n",
    "        return random.choice(digits)\n",
    "\n",
    "\n",
    "def password_Generator(strength,chars) :\n",
    "\n",
    "    words_list = ['best','king','win','smart','hero','clever','top','kaus','Kaus','random']\n",
    "    psw = ['' for x in range(chars)]\n",
    "    ans = ''\n",
    "    \n",
    "    if strength == 1 :\n",
    "        # weak password\n",
    "        w = random.choice(words_list)\n",
    "        temp_l = len(w)\n",
    "        k = chars - temp_l\n",
    "        p = random.randint(0,k) # for randomly choosind the index to place the word\n",
    "        for i in range(k+1) : \n",
    "            if i == p :\n",
    "                psw[i] = w\n",
    "            else :\n",
    "                psw[i] = random_generator()\n",
    "        return ''.join(psw)\n",
    "        \n",
    "    elif strength == 2 :\n",
    "        # strong password\n",
    "        for i in range(chars) :\n",
    "            ans += random_generator(1)\n",
    "        return ans\n",
    "        \n",
    "    else :\n",
    "        # very strong password\n",
    "        for i in range(chars) :\n",
    "            ans += random_generator(2)\n",
    "        return ans\n",
    "\n",
    "if __name__ == \"__main__\" :\n",
    "\n",
    "    print(password_Generator(3,15))"
   ]
  },
  {
   "cell_type": "markdown",
   "id": "08d9bf1f-b539-4371-9e0b-7a5c0ebc2303",
   "metadata": {
    "jp-MarkdownHeadingCollapsed": true
   },
   "source": [
    "## Web Scraping Project 1"
   ]
  },
  {
   "cell_type": "code",
   "execution_count": 402,
   "id": "674f2652-5f9f-4a75-85a0-cbfec331b67d",
   "metadata": {
    "scrolled": true
   },
   "outputs": [
    {
     "name": "stdout",
     "output_type": "stream",
     "text": [
      "After Campaign’s Final Frenzy, It Comes Down to Voters: Trump or Harris?\n",
      "Declaring Winner May Take Time, but Early Results Could Hold Clues\n",
      "Voters Go to Polls to Decide a Divisive Race\n",
      "What Time Do the Polls Close?\n",
      "How the Election Could Unfold: Four Scenarios\n",
      "Still More Scandals\n",
      "Trump’s Criminal Trials\n",
      "America’s Place in the World\n",
      "Tariffs and Trade\n",
      "Imagining a Harris Presidency\n",
      "Climate\n",
      "Deploying Troops on U.S. Soil\n",
      "Taxation\n",
      "Kamala Harris’s Rise\n",
      "Abortion Rights\n",
      "Rule of Law\n",
      "Immigration\n",
      "Pace of Change\n",
      "Limits of Power\n",
      "A Grim Trump and an Upbeat Harris End the Race Hitting Opposite Notes\n",
      "Russia Escalates Effort to Subvert Election and ‘Instill Fear in Voters,’ U.S. Says\n",
      "The Polls Are Close. The Results Might Not Be.\n",
      "Election Day Decisions, and Why the Count Could Take Awhile\n",
      "Tiny Homes Face the Ax in Hong Kong, Leaving Many Families Worried\n",
      "Contraband Whiskey and a Secret Royal Dinner: Wall Street Goes to Riyadh\n",
      "Boeing Union Approves New Contract, Ending Costly Strike\n",
      "U.S. Voters in the West Bank Say President Biden Let Them Down\n",
      "Israeli Raids in West Bank Kill 4, Palestinian Officials Say\n",
      "Gazans Fear Neither Candidate in U.S. Election Will Help Them\n",
      "Quincy Jones Orchestrated the Sound of America\n",
      "‘High Risk, High Return’? How Kemi Badenoch Came to Lead Britain’s Conservatives\n",
      "Fifth Avenue: The ‘Street of Dreams’ for Over a Century\n",
      "Retailers Jump at the Chance to Invest in Fifth Avenue\n",
      "How to Live Off the Grid in Manhattan\n",
      "These 15 Voters Swung Between Trump and Harris for Months. Here’s What Decided Things.\n",
      "‘I Will Be Thrilled to Be Wrong’: Four Columnists Brace for Election Night\n",
      "I’m a Presidential Historian. This Is My Biggest Regret About Trump.\n",
      "I Voted for Harris but Gaza’s Horrors Weigh on My Conscience\n",
      "We Cannot Become the Country Donald Trump Wants Us to Be\n",
      "Election Day Is Long. Give Us Five Minutes to Help You Get Through It.\n",
      "We’ve Been Underestimating the Scale of Women’s Fury\n",
      "Advice From a Psychotherapist on How to Cope Today\n",
      "Here’s Why Trump’s Supporters Should Also Be Wary if He Returns to Power\n",
      "The Anti-Anxiety Election Day Menu\n",
      "You Didn’t Imagine It. The Election Had a Vibe Shift.\n",
      "Jon Stewart Looks Back With Sanity and/or Fear\n",
      "Is Something Worrying You?\n",
      "Win or Lose, Trump Has Already Won\n",
      "Why Isn’t Trump Running Away With This?\n",
      "Democrats May Be In for Some Rude Awakenings\n",
      "Best of Late Night: Your Election Eve Anxiety\n",
      "When Kentucky Bans Homeless Camps, Where Do People Go?\n",
      "The 2024 Holiday Gift Guide\n",
      "In a Record, All but Two U.S. States Are in Drought\n",
      "Japanese Scientists Bet on an Ancient Material for Their New Satellite: Wood\n",
      "How ‘Blitz’ Recreates War-Torn London\n",
      "Steve McQueen’s latest film, set in 1940 during Germany’s bombardment of the British capital, draws extensively from contemporary photos.\n",
      "Wordle\n",
      "Connections\n",
      "Strands\n",
      "Spelling Bee\n",
      "The Crossword\n",
      "The Mini Crossword\n"
     ]
    }
   ],
   "source": [
    "# 17. Use the BeautifulSoup and requests Python packages to print out a list of all the article titles on the New York Times homepage.\n",
    "\n",
    "import requests\n",
    "from bs4 import BeautifulSoup\n",
    "\n",
    "url = 'https://www.nytimes.com/'\n",
    "\n",
    "html = requests.get(url)\n",
    "html # responce 200 means successful request\n",
    "\n",
    "soup = BeautifulSoup(html.content, 'html.parser')\n",
    "# by using beautiful soup investigate the page's html\n",
    "\n",
    "# print(soup.prettify())\n",
    "# prettify() just makes the html more clean and easier to read\n",
    "\n",
    "title = soup.find_all('p', class_='indicate-hover')\n",
    "\n",
    "for i in title :\n",
    "    print(i.text)"
   ]
  },
  {
   "cell_type": "markdown",
   "id": "84c95a8b-14d7-4b33-9fc0-5be7987b33dc",
   "metadata": {
    "jp-MarkdownHeadingCollapsed": true
   },
   "source": [
    "## Cows & Bulls Game Project"
   ]
  },
  {
   "cell_type": "code",
   "execution_count": 426,
   "id": "4972d59f-a057-4cbb-82d2-8d4e0ee81625",
   "metadata": {
    "scrolled": true
   },
   "outputs": [
    {
     "name": "stdin",
     "output_type": "stream",
     "text": [
      "Guess the 4-digit number :  1234\n"
     ]
    },
    {
     "name": "stdout",
     "output_type": "stream",
     "text": [
      "cows : 0 , bulls : 3\n"
     ]
    },
    {
     "name": "stdin",
     "output_type": "stream",
     "text": [
      "Guess the 4-digit number :  2134\n"
     ]
    },
    {
     "name": "stdout",
     "output_type": "stream",
     "text": [
      "cows : 1 , bulls : 2\n"
     ]
    },
    {
     "name": "stdin",
     "output_type": "stream",
     "text": [
      "Guess the 4-digit number :  2000\n"
     ]
    },
    {
     "name": "stdout",
     "output_type": "stream",
     "text": [
      "cows : 0 , bulls : 0\n"
     ]
    },
    {
     "name": "stdin",
     "output_type": "stream",
     "text": [
      "Guess the 4-digit number :  0100\n"
     ]
    },
    {
     "name": "stdout",
     "output_type": "stream",
     "text": [
      "cows : 1 , bulls : 1\n"
     ]
    },
    {
     "name": "stdin",
     "output_type": "stream",
     "text": [
      "Guess the 4-digit number :  0110\n"
     ]
    },
    {
     "name": "stdout",
     "output_type": "stream",
     "text": [
      "cows : 1 , bulls : 1\n"
     ]
    },
    {
     "name": "stdin",
     "output_type": "stream",
     "text": [
      "Guess the 4-digit number :  0101\n"
     ]
    },
    {
     "name": "stdout",
     "output_type": "stream",
     "text": [
      "cows : 2 , bulls : 0\n"
     ]
    },
    {
     "name": "stdin",
     "output_type": "stream",
     "text": [
      "Guess the 4-digit number :  2101\n"
     ]
    },
    {
     "name": "stdout",
     "output_type": "stream",
     "text": [
      "cows : 2 , bulls : 0\n"
     ]
    },
    {
     "name": "stdin",
     "output_type": "stream",
     "text": [
      "Guess the 4-digit number :  3101\n"
     ]
    },
    {
     "name": "stdout",
     "output_type": "stream",
     "text": [
      "cows : 3 , bulls : 0\n"
     ]
    },
    {
     "name": "stdin",
     "output_type": "stream",
     "text": [
      "Guess the 4-digit number :  3151\n"
     ]
    },
    {
     "name": "stdout",
     "output_type": "stream",
     "text": [
      "\n",
      "You have Won !\n",
      "cows : 4 , bulls : 0\n",
      "The number is 3151 .\n",
      "You have taken 9 guesses.\n"
     ]
    }
   ],
   "source": [
    "# 18. Create a program that will play the “cows and bulls” game with the user. The game works like this:\n",
    "\n",
    "# Randomly generate a 4-digit number. Ask the user to guess a 4-digit number.\n",
    "# For every digit that the user guessed correctly in the correct place, they have a “cow”.\n",
    "# For every digit the user guessed correctly in the wrong place is a “bull.”\n",
    "# Every time the user makes a guess, tell them how many “cows” and “bulls” they have.\n",
    "# Once the user guesses the correct number, the game is over.\n",
    "# Keep track of the number of guesses the user makes throughout the game and tell the user at the end.\n",
    "\n",
    "import random\n",
    "\n",
    "num = str(random.randint(1000,9999))\n",
    "g = 0\n",
    "\n",
    "while True :\n",
    "    user_inp = input('Guess the 4-digit number : ')\n",
    "    g += 1\n",
    "    cows = 0\n",
    "    bulls = 0\n",
    "    if user_inp == num :\n",
    "        cows = 4\n",
    "        bulls = 0\n",
    "        print('\\nYou have Won !')\n",
    "        print(\"cows : {0} , bulls : {1}\".format(cows,bulls))\n",
    "        break\n",
    "    else :\n",
    "        j = 0\n",
    "        for i in num :\n",
    "            if user_inp[j] == num[j] :\n",
    "                cows += 1\n",
    "            elif i in user_inp :\n",
    "                bulls += 1\n",
    "            j += 1          \n",
    "\n",
    "    print(\"cows : {0} , bulls : {1}\".format(cows,bulls))\n",
    "\n",
    "\n",
    "print('The number is',num,'.\\nYou have taken',g,'guesses.')"
   ]
  },
  {
   "cell_type": "markdown",
   "id": "2da05808-ddeb-4d0a-86ee-7fab6b251752",
   "metadata": {
    "jp-MarkdownHeadingCollapsed": true
   },
   "source": [
    "## Web Scraping Project 2"
   ]
  },
  {
   "cell_type": "code",
   "execution_count": 721,
   "id": "87989f8d-8e94-49b4-bfe1-dec61ef19523",
   "metadata": {},
   "outputs": [
    {
     "name": "stdout",
     "output_type": "stream",
     "text": [
      "Shame and Survival\n",
      "\n",
      " She tried public appearances. She tried being reclusive. She tried leaving the country, and she tried finding a job. But the epic humiliation of 1998, when her affair with Bill Clinton became an all-consuming story, has followed Monica Lewinsky every day. After 10 years of self-imposed reticence, and now hoping to help victims of Internet shaming, she critiques the culture that put a 24-year-old through the wringer and calls out the feminists who joined the chorus.By Monica LewinskyPhotography by Mark SeligerMay 28, 2014\n",
      "\n",
      " ‘How does it feel to be America’s premier blow-job queen?”It was early 2001. I was sitting on the stage of New York’s Cooper Union in the middle of taping a Q&A for an HBO documentary. I was the subject. And I was thunderstruck.Hundreds of people in the audience, mostly students, were staring at me, many with their mouths agape, wondering if I would dare to answer this question.The main reason I had agreed to participate in the program was not to rehash or revise the story line of Interngate but to try to shift the focus to meaningful issues. Many troubling political and judicial questions had been brought to light by the investigation and impeachment of President Bill Clinton. But the most egregious had been generally ignored. People seemed indifferent to the deeper matters at hand, such as the erosion of private life in the public sphere, the balance of power and gender inequality in politics and media, and the erosion of legal protections to ensure that neither a parent nor a child should ever have to testify against each other.How naïve I was.There were gasps and sputters from the audience. Numerous blurred, faceless people called out, “Don’t answer it!”“It’s hurtful and it’s insulting,” I said, attempting to gather my wits. “And as insulting as it is to me, it’s even more insulting to my family. I don’t actually know why this whole story became about oral sex. I don’t. It was a mutual relationship.… The fact that it did is maybe a result of a male-dominated society.”The audience laughed. Maybe they were surprised to hear these words coming from me.I looked straight at the smirking guy who had asked the question. “You might be better poised to answer that.” After a pause, I added, “That’s probably cost me another year of therapy.”You could argue that in agreeing to participate in an HBO documentary called Monica in Black and White I had signed up to be shamed and publicly humiliated yet again. You might even think I would have been inured to humiliation. This encounter at Cooper Union, after all, paled in comparison with the 445-page Starr Report, which was the culmination of independent counsel Kenneth Starr’s four-year investigation of the Clinton White House. It included chapter and verse about my intimate sexual activities, along with transcripts of audiotapes that chronicled many of my private conversations. But the “B.J. Queen” question—which was included in the show when it aired on HBO in 2002—sat with me for a long time after the audience left and the taping wrapped.\n",
      "\n",
      " True, this wasn’t the first time I’d been stigmatized for my affair with Bill Clinton. But never had I been so directly confronted, one-on-one, with such a crass characterization. One of the unintended consequences of my agreeing to put myself out there and to try to tell the truth had been that shame would once again be hung around my neck like a scarlet-A albatross. Believe me, once it’s on, it is a bitch to take off.Had that awkward moment at Cooper Union aired only a few years later, with the advent of social media, the humiliation would have been even more devastating. That clip would have gone viral on Twitter, YouTube, Facebook, TMZ, Gawker. It would have become a meme of its own on Tumblr. The viralness itself would have merited mention on the Daily Beast and Huffington Post. As it was, it was viral enough, and, thanks to the all-encompassing nature of the Web, you can, 12 years later, watch it all day long on YouTube if you want to (but I really hope you have better things to do with your time).I know I’m not alone when it comes to public humiliation. No one, it seems, can escape the unforgiving gaze of the Internet, where gossip, half-truths, and lies take root and fester. We have created, to borrow a term from historian Nicolaus Mills, a “culture of humiliation” that not only encourages and revels in Schadenfreude but also rewards those who humiliate others, from the ranks of the paparazzi to the gossip bloggers, the late-night comedians, and the Web “entrepreneurs” who profit from clandestine videos.Yes, we’re all connected now. We can tweet a revolution in the streets or chronicle achievements large and small. But we’re also caught in a feedback loop of defame and shame, one in which we have become both perps and victims. We may not have become a crueler society—although it sure feels as if we have—but the Internet has seismically shifted the tone of our interactions. The ease, the speed, and the distance that our electronic devices afford us can also make us colder, more glib, and less concerned about the consequences of our pranks and prejudice. Having lived humiliation in the most intimate possible way, I marvel at how willingly we have all signed on to this new way of being.\n",
      "\n",
      " In my own case, each easy click of that YouTube link reinforces the archetype, despite my efforts to parry it away: Me, America’s B.J. Queen. That Intern. That Vixen. Or, in the inescapable phrase of our 42nd president, “That Woman.”It may surprise you to learn that I’m actually a person.WATCH: Dealing with Trauma in the Public Eye with Hannah Gadsby and Monica LewinskyIn 1998, when news of my affair with Bill Clinton broke, I was arguably the most humiliated person in the world. Thanks to the Drudge Report, I was also possibly the first person whose global humiliation was driven by the Internet.For several years I tried my hand in the fashion-accessory business and became involved in various media projects, including the HBO documentary. Then I lay low for the most part. (The last major interview I granted was 10 years ago.) After all, not lying low had exposed me to criticism for trying to “capitalize” on my “notoriety.” Apparently, others talking about me is O.K.; me speaking out for myself is not. I turned down offers that would have earned me more than $10 million, because they didn’t feel like the right thing to do. Over time, the media circus quieted down, but it never quite moved on, even as I attempted to move on.Meanwhile, I watched my friends’ lives move forward. Marriages. Kids. Degrees. (Second marriages. More kids. More degrees.) I decided to turn over a new leaf and attend grad school.I moved to England to study, to challenge myself, to escape scrutiny, and to reimagine my identity. My professors and fellow students at the London School of Economics were wonderful—welcoming and respectful. I had more anonymity in London, perhaps due to the fact that I spent most of my waking hours in class or buried in the library. In 2006, I graduated with a master’s in social psychology. My master’s thesis examined social bias in the courtroom and was titled “In Search of the Impartial Juror: An Exploration of Pretrial Publicity and the Third Person Effect.” I liked to joke that I was trading the blue dress for blue stockings, and the degree provided new scaffolding to hang my life experiences on. It would also prove, so I hoped, to be a gateway to a more normal life.\n",
      "\n",
      " I moved between London, Los Angeles, New York, and Portland, Oregon, interviewing for a variety of jobs that fell under the umbrella of “creative communication” and “branding,” with an emphasis on charity campaigns. Yet, because of what potential employers so tactfully referred to as my “history,” I was never “quite right” for the position. In some cases, I was right for all the wrong reasons, as in “Of course, your job would require you to attend our events.” And, of course, these would be events at which press would be in attendance.In one promising job interview that took place during the run-up to the 2008 primary season, the conversation took an interesting turn. “So here’s the thing, Monica,” the interviewer said. “You’re clearly a bright young woman and affable, but for us—and probably any other organization that relies on grants and other government funding—it’s risky. We would first need a Letter of Indemnification from the Clintons. After all, there is a 25 percent chance that Mrs. Clinton will be the next president.” I gave a fake smile and said, “I understand.”Another job interview, this one typical: walked into the stark, terminally cool reception area of a hip-yet-prestigious advertising agency in Los Angeles, my hometown. As always, I put on my best “I’m friendly, not a diva” smile. “Hi. Monica Lewinsky here to see So-and-So.”The twentysomething receptionist pushed her black-rimmed hipster frames up her nose. “Monica who?”Before I could answer, another twentysomething, in skinny jeans, plaid shirt, and bow tie, rushed over and interrupted: “ Ms. Lewinsky.” Like a maître d’, he continued, “Pleasure to have you here. I’ll let So-and-So know you’ve arrived. Soy latte? Green tea? Filtered water?”I found myself sitting at a small round table, face-to-face with So-and-So, the agency’s head of strategy and planning. We talked. She kept wincing. This was not going well. I tried to keep myself from getting flustered. Now she was not only wincing but also clearing her throat. Was that perspiration on her brow? It hit me: she was nervous, in full-tic mode.I’ve had to become adept at handling any number of reactions in social situations and job interviews. I get it: it must be disconcerting to sit across from “That Woman.” Needless to say, I didn’t get the position.\n",
      "\n",
      " I eventually came to realize that traditional employment might not be an option for me. I’ve managed to get by (barely, at times) with my own projects, usually with start-ups that I have participated in, or with loans from friends and family.In another job interview I was asked, “If you were a brand, which brand would you be?” Let me tell you, when you’re Monica Lewinsky, that is one loaded question.In September of 2010, the culmination of these experiences began to snap into a broader context for me. A phone conversation with my mother shifted the lens through which I viewed my world. We were discussing the tragic death of Tyler Clementi. Tyler, you will recall, was an 18-year-old Rutgers freshman who was secretly streamed via Webcam kissing another man. Days later, after being derided and humiliated on social media, he committed suicide by jumping off the George Washington Bridge.My mom wept. Sobbing, she kept repeating over and over, “How his parents must feel … his poor parents.”It was an unbearably tragic event, and while hearing of it brought me to tears, too, I couldn’t quite grasp why my mom was so distraught. And then it dawned on me: she was reliving 1998, when she wouldn’t let me out of her sight. She was replaying those weeks when she stayed by my bed, night after night, because I, too, was suicidal. The shame, the scorn, and the fear that had been thrown at her daughter left her afraid that I would take my own life—a fear that I would be literally humiliated to death. (I have never actually attempted suicide, but I had strong suicidal temptations several times during the investigations and during one or two periods after.)I would never be so presumptuous as to equate my own story with Tyler Clementi’s. After all, my public humiliation had been the result of my involvement with a world-renowned public figure—that is, a consequence of my own poor choices. But in that moment, when I felt the depths of my mother’s anguish, I wished I could have had a chance to have spoken to Tyler about how my love life, my sex life, my most private moments, my most sensitive secrets, had been broadcast around the globe. I wished I had been able to say to him that I knew a little of how it might have felt for him to be exposed before the world. And, as hard as it is to imagine surviving it, it is possible.\n",
      "\n",
      " In the wake of Tyler’s tragedy, my own suffering took on a different meaning. Perhaps by sharing my story, I reasoned, I might be able to help others in their darkest moments of humiliation. The question became: How do I find and give a purpose to my past? It was my Prufrockian moment: “Do I dare / Disturb the universe?” Or, in my case, the Clinton universe.Despite a decade of self-imposed silence, I have been periodically resuscitated as part of the national conversation, almost always in connection with the Clintons. For instance, in January and February of this year, Rand Paul, the Kentucky senator and a possible 2016 Republican presidential aspirant, managed to drag me into the pre-election muck. He fought back against the Democrats’ charges of a G.O.P. “war on women” by arguing that Bill Clinton had committed workplace “violence” and acted in a “predatory” manner against “a 20-year-old girl who was there from college.”Sure, my boss took advantage of me, but I will always remain firm on this point: it was a consensual relationship. Any “abuse” came in the aftermath, when I was made a scapegoat in order to protect his powerful position.So, trying to disappear has not kept me out of the fray. I am, for better or for worse, presumed to be a known quantity. Every day I am recognized. Every day. Sometimes a person will walk past me again and again, as if I wouldn’t notice. (Thankfully, 99.9 percent of the time when strangers do say something to me they are supportive and respectful.) Every day someone mentions me in a tweet or a blog post, and not altogether kindly. Every day, it seems, my name shows up in an op-ed column or a press clip or two—mentioned in passing in articles on subjects as disparate as millennials, Scandal, and French president François Hollande’s love life. Miley Cyrus references me in her twerking stage act, Eminem raps about me, and Beyoncé’s latest hit gives me a shout-out. Thanks, Beyoncé, but if we’re verbing, I think you meant “Bill Clinton’d all on my gown,” not “Monica Lewinsky’d.”With every man I date (yes, I date!), I go through some degree of 1998 whiplash. I need to be extremely circumspect about what it means to be “public” with someone. In the early years post-impeachment, I once left a front-row seat along the third-base line at a Yankees game when I learned that my date—a guy whose company I thoroughly enjoyed—was actually in another relationship. It was only a green-card marriage, but I freaked that we could be photographed together and someone might call the gossip rags. I’ve become adept at figuring out when men are interested in me for the wrong reason. Thankfully, those have been few and far between. But every man that has been special to me over the past 16 years has helped me find another piece of myself—the self that was shattered in 1998. And so, no matter the heartbreak, tears, or disenchantment, I’ll always be grateful to them.In February of this year, around the same time Senator Paul put me back into the unwanted spotlight, I became the “narcissistic loony toon,” the latest twist on Me as Archetype.A snapshot of a scenario I’ve grown all too accustomed to, even as I attempt to move on with my life: A shrill ring interrupts the rhythms of my day. The call—from the doorman of the apartment building where I’m staying in New York—leads me to an exasperated “What? Again?” They’ve reappeared: the paparazzi, like swallows, have returned to the sidewalk outside, pacing and circling and pacing some more.I hit the computer. Time for a little self-Google. (Oh, dear reader, please do not judge.) My heart sinks. There’s an explosion on Google News. I know what this means. Whatever day I’ve planned has been jettisoned. To leave the house—and risk a photo—only ensures that the story will stay alive.The cameras have returned because of the headlines: a conservative Web site has gone poking around the University of Arkansas archive of one of Hillary Clinton’s closest friends and admirers, Diane Blair, and has unearthed a cache of memos from the 1990s. In some of them, Blair, who died in 2000, quotes the former First Lady about her husband’s relationship with me. Though Hillary, according to Blair’s notes, claimed to find her husband’s “lapse” inexcusable, she praised him for trying to “manage someone who was clearly a ‘narcissistic loony toon.’ ”\n",
      "\n",
      " My first thought, as I was getting up to speed: If that’s the worst thing she said, I should be so lucky. Mrs. Clinton, I read, had supposedly confided to Blair that, in part, she blamed herself for her husband’s affair (by being emotionally neglectful) and seemed to forgive him. Although she regarded Bill as having engaged in “gross inappropriate behavior,” the affair was, nonetheless, “consensual (was not a power relationship).”I field the usual calls from friends who lend moral support whenever these volcanic media stories erupt. They diffuse the tension with good-natured teasing: “So, are we changing your monogram to NLT?” I try to ignore the former First Lady’s long-buried comments. Given my experiences with Linda Tripp, I know better than anyone what it’s like to have a conversation with a girlfriend exposed and scrutinized, taken out of context. But, even so, it begins to gnaw at me. I realize that Hillary Clinton was—unlike me when Tripp was prying loose my innermost secrets and insecurities and recording them surreptitiously—fully aware of this documentation: she’s the one who, according to the memos, asked Blair to keep a record or diary of their discussions for archival purposes.Yes, I get it. Hillary Clinton wanted it on record that she was lashing out at her husband’s mistress. She may have faulted her husband for being inappropriate, but I find her impulse to blame the Woman—not only me, but herself—troubling. And all too familiar: with every marital indiscretion that finds its way into the public sphere—many of which involve male politicians—it always seems like the woman conveniently takes the fall. Sure, the Anthony Weiners and Eliot Spitzers do what they need to do to look humiliated on cable news. They bow out of public life for a while, but they inevitably return, having put it all behind them. The women in these imbroglios return to lives that are not so easily repaired.But there is another layer here that is making me bristle: Narcissist? Loony?You might remember that just five days before the world had ever heard my name the F.B.I.—after my friend Linda Tripp approached Special Prosecutor Kenneth Starr’s office with information about my affair with the president—entrapped me in a terrifying “sting” in the Pentagon City mall. At age 24, cornered in a hotel room on January 16, 1998, with mainly male interrogators taking orders from Starr, I was discouraged from contacting my attorney and threatened with 27 years in jail for filing an affidavit denying the affair with Clinton, among other alleged crimes. I was offered immunity from that threat if I agreed to place monitored calls and wear a wire in conversations with two of the president’s confidants and possibly the president himself. I refused. Confiding in Linda Tripp turned into an unintended betrayal. But this? The mother of all betrayals. That, I couldn’t do. Courageous or foolish, maybe, but narcissistic and loony?These 16-year-old descriptions of me triggered memories of past anguish, particularly in the area of women lobbing derision at one another. So where, you might be wondering, were the feminists back then?It’s a question that troubles me to this day.\n",
      "\n",
      " I sorely wished for some sign of understanding from the feminist camp. Some good, old-fashioned, girl-on-girl support was much in need. None came. Given the issues at play—gender politics, sex in the workplace—you’d think they would have spoken up. They didn’t. I understood their dilemma: Bill Clinton had been a president “friendly” to women’s causes.It also didn’t help that my case was not one of conventional “sexual harassment”; that charge against Bill Clinton had been made by Paula Jones, who brought a colossal lawsuit against him. My name surfaced only because, thanks to newly won advances by feminists, investigations of such cases were now allowed to cast a wider net. The Jones case became a stick that the right wing used to strike back at the Clinton-supporting feminists: Why wouldn’t they enthusiastically support an investigation into a case of sexual harassment? What if the president had been a Republican? Charges of hypocrisy flew.A handful of representatives of the modern feminist movement did chime in, obliquely. Yet, instead of any meaningful engagement, we got this: January 30, 1998. Day Nine of the scandal. Cocktails at Le Bernardin, in Manhattan. In attendance: writers Erica Jong, Nancy Friday, Katie Roiphe, and Elizabeth Benedict; Saturday Night Live writer Patricia Marx; Marisa Bowe, the editor of Word, an online magazine; fashion designer Nicole Miller; former dominatrix Susan Shellogg; and their host, Le Bernardin co-owner Maguy Le Coze. The New York Observer brought this coven together to trade Interngate insights, to be recorded by Francine Prose. (Sadly, the gal who would really make this coven complete is missing: Maureen Dowd, or Moremean Dowdy, as I used to refer to her. Today, I’d meet her for a drink.)Oh, to have been at that cocktail party:Marisa Bowe: His whole life is about having to be in control and really intelligent all the time. And his wife is really intelligent and in control all the time. And the idea of just having stupid sex with some not-brilliant woman in the Oval Office, I can see the appeal in that.Imaginary Me: I’m not saying I’m brilliant, but how do you know I’m not? My first job out of college was at the White House.\n",
      "\n",
      " Susan Shellogg: And do you think it’s tremendously selfish? Selfish and demanding, having oral sex and not reciprocating? I mean … she didn’t say, “Well, you know he satisfied me.”Me: And where exactly “didn’t” I say this? In which public statement that I didn’t make? In which testimony that’s not been released?Katie Roiphe: I think what people are outraged about is the way that [Monica Lewinsky] looks, which is interesting. Because we like to think of our presidents as sort of godlike, and so if J.F.K. has an affair with Marilyn Monroe, it’s all in the realm of the demigods…. I mean, the thing I kept hearing over and over again was Monica Lewinsky’s not that pretty.Me: Well, thanks. The first picture that surfaced was a passport photo. Would you like to have a passport photo splattered across publications around the world as the picture that defines you?What you are also saying here is that the primary quality that would qualify a woman to have an intimate relationship with a powerful man is physical attractiveness. If that’s not setting the movement back, I don’t know what is.Erica Jong: My dental hygienist pointed out that she had third-stage gum disease.Shellogg: What do you think will happen to [her]? I mean, she’ll just fade out quietly or write a book? Or people will forget about her six months from now?Nancy Friday: She can rent out her mouth.Me: (Speechless.)Jong: But, you know, men do like to get close to the mouth that has been close to power. Think of the fantasy in the man’s mind as she’s going down on him and he’s thinking, “Oh my God.”Elizabeth Benedict: Do for me what you did to the President. Do that.Me: (Still speechless.)Jong: I think it’s a tribute to how far we’ve come that we’re not trashing Monica Lewinsky.The catty confab appeared under the headline SUPERGALS LOVE THAT NAUGHTY PREZ. (Writing in Vanity Fair, Marjorie Williams called it “the most embarrassing thing I had read in a long time.”) To me, it illustrates a perplexing aspect of the culture of humiliation, one that Phyllis Chesler recognized in her book Woman’s Inhumanity to Woman: that women themselves are not immune to certain kinds of misogyny. We see it today in how the “mean girls” at school lurk on the modern playground of the Web (or around a pundit’s roundtable on TV or at a French restaurant), ever eager to pile on.\n",
      "\n",
      " I still have deep respect for feminism and am thankful for the great strides the movement has made in advancing women’s rights over the past few decades. But, given my experience of being passed around like gender-politics cocktail food, I don’t identify myself as a Feminist, capital F. The movement’s leaders failed in articulating a position that was not essentially anti-woman during the witch hunt of 1998. In the case of the New York Supergals, it should not have been that hard for them to swoon over the president without attacking and shaming me. Instead, they joined the humiliation derby.I , myself, deeply regret what happened between me and President Clinton. Let me say it again: I. Myself. Deeply. Regret. What. Happened. At the time—at least from my point of view—it was an authentic connection, with emotional intimacy, frequent visits, plans made, phone calls and gifts exchanged. In my early 20s, I was too young to understand the real-life consequences, and too young to see that I would be sacrificed for political expediency. I look back now, shake my head in disbelief, and wonder: what was I—what were we—thinking? I would give anything to go back and rewind the tape.Like many other Americans, I’ve been thinking about Hillary Clinton. What might happen, I’ve wondered, if she does run in 2016? And what if she wins—and then wins a second term?But when I think about these matters, there’s a dimension at play for me other than just the fact that we might finally have a woman in the White House. We all remember the second-wave feminist rallying cry The personal is political. Many people (myself included) proclaimed that my relationship with Bill Clinton was a personal matter, not one to be used in a high-stakes political war. When I hear of Hillary’s prospective candidacy, I cannot help but fear the next wave of paparazzi, the next wave of “Where is she now?” stories, the next reference to me in Fox News’s coverage of the primaries. I’ve begun to find it debilitating to plot out the cycle of my life based, to some degree, on the political calendar. For me, it’s a scenario in which the personal and the political are impossible to separate.In 2008, when Hillary was running for president, I remained virtually reclusive, despite being inundated with press requests. I put off announcing several media projects in 2012 until after the election. (They were subsequently canceled—and, no, I wasn’t offered $12 million for a salacious tell-all book, contrary to press reports.) And recently I’ve found myself gun-shy yet again, fearful of “becoming an issue” should she decide to ramp up her campaign. But should I put my life on hold for another 8 to 10 years?Being a conscientious Democrat—and aware that I could be used as a tool for the left or the right—I have remained silent for 10 years. So silent, in fact, that the buzz in some circles has been that the Clintons must have paid me off; why else would I have refrained from speaking out? I can assure you that nothing could be further from the truth.So why speak now? Because it is time.I turned 40 last year, and it is time to stop tiptoeing around my past—and other people’s futures. I am determined to have a different ending to my story. I’ve decided, finally, to stick my head above the parapet so that I can take back my narrative and give a purpose to my past. (What this will cost me, I will soon find out.) Despite what some headlines will falsely report about this piece, this is not about Me versus the Clintons. Their lives have moved on; they occupy important and powerful places on the global stage. I wish them no ill. And I fully understand that what has happened to me and the issue of my future do not matter to either of them.It also goes back to the personal and the political. I have lived many of the questions that have become central to our national discourse since 1998. How far should we allow the government into our bedrooms? How do we reconcile the right to privacy with the need to expose sexual indiscretion? How do we guard against an overzealous government demanding our private data and information? And, most important to me personally, how do we cope with the shame game as it’s played in the Internet Age? (My current goal is to get involved with efforts on behalf of victims of online humiliation and harassment and to start speaking on this topic in public forums.)So far, That Woman has never been able to escape the shadow of that first depiction. I was the Unstable Stalker (a phrase disseminated by the Clinton White House), the Dimwit Floozy, the Poor Innocent who didn’t know any better. The Clinton administration, the special prosecutor’s minions, the political operatives on both sides of the aisle, and the media were able to brand me. And that brand stuck, in part because it was imbued with power. I became a social representation, a social canvas on which anybody could project their confusion about women, sex, infidelity, politics, and body issues.Unlike the other parties involved, I was so young that I had no established identity to which I could return. I didn’t “let this define” me—I simply hadn’t had the life experience to establish my own identity in 1998. If you haven’t figured out who you are, it’s hard not to accept the horrible image of you created by others. (Thus, my compassion for young people who find themselves shamed on the Web.) Despite much self-searching and therapy and exploring of different paths, I remained “stuck” for far too many years.No longer. It’s time to burn the beret and bury the blue dress. And move forward.Monica Lewinsky Is Back1 / 5ChevronChevron\n",
      "\n",
      " \n",
      "\n",
      " \n",
      "\n",
      " \n"
     ]
    }
   ],
   "source": [
    "# 19. Using the requests and BeautifulSoup Python libraries, print to the screen the full text of the article on\n",
    "# this website: http://www.vanityfair.com/society/2014/06/monica-lewinsky-humiliation-culture.\n",
    "# The article is long, so it is split up between 4 pages. Your task is to print out the text to the screen so that\n",
    "# you can read the full article without having to click any buttons.\n",
    "# This will just print the full text of the article to the screen. It will not make it easy to read,\n",
    "# so next exercise we will learn how to write this text to a .txt file.\n",
    "\n",
    "import requests\n",
    "from bs4 import BeautifulSoup\n",
    "\n",
    "url = 'http://www.vanityfair.com/society/2014/06/monica-lewinsky-humiliation-culture'\n",
    "\n",
    "page = requests.get(url)\n",
    "page\n",
    "\n",
    "soup = BeautifulSoup(page.content,'html.parser')\n",
    "\n",
    "title = soup.find('h1', attrs={'data-testid': 'ContentHeaderHed'})\n",
    "print(title.text)\n",
    "some_text_below_title = soup.find('div',attrs={'data-testid':'ContentHeaderAccreditation'})\n",
    "print('\\n',some_text_below_title.text)\n",
    "complete_passage = soup.find_all('div',class_='grid-layout__content')\n",
    "\n",
    "for i in complete_passage :\n",
    "    print('\\n',i.text)\n",
    "\n",
    "\n",
    "# 21. using question 19 write the extracted content text in file\n",
    "\n",
    "f = open('tp.txt','a')\n",
    "\n",
    "f.write(title.text)\n",
    "f.write('\\n\\n'+some_text_below_title.text)\n",
    "\n",
    "for i in complete_passage :\n",
    "    f.write('\\n\\n'+i.text)\n",
    "\n",
    "f.close()"
   ]
  },
  {
   "cell_type": "markdown",
   "id": "ae3c4090-cdb6-4ba1-a7b6-1b464f51377d",
   "metadata": {
    "jp-MarkdownHeadingCollapsed": true
   },
   "source": [
    "## Tic-Tac-Toe Game Project"
   ]
  },
  {
   "cell_type": "code",
   "execution_count": 702,
   "id": "182a1a48-3d06-4d44-8d1e-359a9ded3ae0",
   "metadata": {
    "scrolled": true
   },
   "outputs": [
    {
     "name": "stdin",
     "output_type": "stream",
     "text": [
      "\n",
      "Do you want to play[p] or exit[e] e\n"
     ]
    },
    {
     "name": "stdout",
     "output_type": "stream",
     "text": [
      "\n",
      "OK!\n",
      "Exiting the Game . . .\n",
      "See You Again!\n"
     ]
    }
   ],
   "source": [
    "# 24. draw a tic tac toe game board .\n",
    "\n",
    "# print the matrix / game board\n",
    "# def print_rows(num) :\n",
    "#     s = ''\n",
    "#     for j in num :\n",
    "#         s += '|  {0}  '.format(j)\n",
    "#     s += '|'\n",
    "#     print(s)\n",
    "\n",
    "# def print_dashes() :\n",
    "#     print('-'*19)\n",
    "\n",
    "# def print_board(mat) :\n",
    "#     for i in mat :\n",
    "#         print_dashes()\n",
    "#         print_rows(i)\n",
    "#     print_dashes()\n",
    "\n",
    "def print_board(mat) :\n",
    "    for i in mat :\n",
    "        print('-'*19)\n",
    "        s = '|'\n",
    "        for j in i :\n",
    "            s = s+'  '+str(j)+'  |'\n",
    "        s += '\\b|'\n",
    "        print(s)\n",
    "    print('-'*19)\n",
    "\n",
    "\n",
    "# 26. checking whether someone has WON a game of Tic Tac Toe, not worrying about how the moves were made.\n",
    "\n",
    "def check_Won(mat) :\n",
    "    if mat[0][0] == mat[1][0] == mat[2][0] and mat[0][0] != ' ':\n",
    "        return True\n",
    "    elif mat[0][1] == mat[1][1] == mat[2][1] and mat[0][1] != ' ':\n",
    "        return True\n",
    "    elif mat[0][2] == mat[1][2] == mat[2][2] and mat[0][2] != ' ':\n",
    "        return True\n",
    "    elif mat[0][0] == mat[0][1] == mat[0][2] and mat[0][0] != ' ':\n",
    "        return True\n",
    "    elif mat[1][0] == mat[1][1] == mat[1][2] and mat[1][0] != ' ':\n",
    "        return True\n",
    "    elif mat[2][0] == mat[2][1] == mat[2][2] and mat[2][0] != ' ':\n",
    "        return True\n",
    "    elif mat[0][0] == mat[1][1] == mat[2][2] and mat[0][0] != ' ':\n",
    "        return True\n",
    "    elif mat[0][2] == mat[1][1] == mat[2][0] and mat[0][2] != ' ':\n",
    "        return True\n",
    "    else :\n",
    "        return False\n",
    "\n",
    "\n",
    "# 27. Add the markings in the game board as player chooses\n",
    "\n",
    "# taking the input coordinates from player and marking his/her choice\n",
    "def player_input(m) :\n",
    "    p = 'o'\n",
    "    c = 0\n",
    "    while True :\n",
    "        if c > 8 :\n",
    "            print('\\nNobody Won.\\nIt\\'s a Draw!')\n",
    "            return ''\n",
    "        p = 'x' if p == 'o' else 'o'\n",
    "        row,col = input('Player {0}\\'s turn (give comma seperated coordinates) : '.format(p)).split(',')\n",
    "        row,col = int(row)-1,int(col)-1\n",
    "        m[row][col] = p\n",
    "        print_board(m)\n",
    "        print()\n",
    "        if check_Won(m) == True:\n",
    "            print('\\n{0} has WON !'.format(p))\n",
    "            return p\n",
    "        c += 1\n",
    "\n",
    "# 29. Combine all components of the game and create full fledged experience.\n",
    "### Game start\n",
    "def start_Game() :\n",
    "    draw = 0\n",
    "    player_X = 0\n",
    "    player_O = 0\n",
    "    while True :\n",
    "        if (input('\\nDo you want to play[p] or exit[e]') == 'e') :\n",
    "            print('\\nOK!\\nExiting the Game . . .\\nSee You Again!')\n",
    "            break\n",
    "        m = [[' ',' ',' '],[' ',' ',' '],[' ',' ',' ']]\n",
    "        print('\\nOK!\\nLet\\'s play the Game.')\n",
    "        print_board(m)\n",
    "        print()\n",
    "        r = player_input(m)\n",
    "        if r == '' :\n",
    "            draw += 1\n",
    "        elif r == 'x' :\n",
    "            player_X += 1\n",
    "        elif r == 'o' :\n",
    "            player_O += 1\n",
    "        print('\\nScores :\\nPlayer X : {0}\\nPlayer O : {1}\\nDraw : {2}'.format(player_X,player_O,draw))\n",
    "    \n",
    "start_Game()"
   ]
  },
  {
   "cell_type": "markdown",
   "id": "61f336aa-c283-4f2f-ada9-2502389068a9",
   "metadata": {
    "jp-MarkdownHeadingCollapsed": true
   },
   "source": [
    "## Hangman Game Project"
   ]
  },
  {
   "cell_type": "code",
   "execution_count": 697,
   "id": "635bdb24-5a07-45c5-8cd2-ad01f26d1ad1",
   "metadata": {
    "scrolled": true
   },
   "outputs": [
    {
     "name": "stdout",
     "output_type": "stream",
     "text": [
      "\n",
      "********* Welcome to HangMan *********\n"
     ]
    },
    {
     "name": "stdin",
     "output_type": "stream",
     "text": [
      "\n",
      "Guess your letter :  K\n"
     ]
    },
    {
     "name": "stdout",
     "output_type": "stream",
     "text": [
      "\n",
      "_ _ _ _ _ \n",
      "\n",
      "You have 5 guesses left!\n",
      "\n",
      "-----------------------------------\n"
     ]
    },
    {
     "name": "stdin",
     "output_type": "stream",
     "text": [
      "\n",
      "Guess your letter :  A\n"
     ]
    },
    {
     "name": "stdout",
     "output_type": "stream",
     "text": [
      "\n",
      "_ _ _ _ _ \n",
      "\n",
      "You have 4 guesses left!\n",
      "\n",
      "-----------------------------------\n"
     ]
    },
    {
     "name": "stdin",
     "output_type": "stream",
     "text": [
      "\n",
      "Guess your letter :  F\n"
     ]
    },
    {
     "name": "stdout",
     "output_type": "stream",
     "text": [
      "\n",
      "_ _ _ _ _ \n",
      "\n",
      "You have 3 guesses left!\n",
      "\n",
      "-----------------------------------\n"
     ]
    },
    {
     "name": "stdin",
     "output_type": "stream",
     "text": [
      "\n",
      "Guess your letter :  E\n"
     ]
    },
    {
     "name": "stdout",
     "output_type": "stream",
     "text": [
      "\n",
      "_ _ _ _ _ \n",
      "\n",
      "You have 2 guesses left!\n",
      "\n",
      "-----------------------------------\n"
     ]
    },
    {
     "name": "stdin",
     "output_type": "stream",
     "text": [
      "\n",
      "Guess your letter :  U\n"
     ]
    },
    {
     "name": "stdout",
     "output_type": "stream",
     "text": [
      "\n",
      "_ _ _ _ _ \n",
      "\n",
      "You have 1 guesses left!\n",
      "\n",
      "-----------------------------------\n"
     ]
    },
    {
     "name": "stdin",
     "output_type": "stream",
     "text": [
      "\n",
      "Guess your letter :  J\n"
     ]
    },
    {
     "name": "stdout",
     "output_type": "stream",
     "text": [
      "\n",
      "_ _ _ _ _ \n",
      "\n",
      "You have 0 guesses left!\n",
      "\n",
      "-----------------------------------\n",
      "\n",
      "No more turns left!\n",
      "\n",
      "And the word is ---> zimbs\n"
     ]
    },
    {
     "name": "stdin",
     "output_type": "stream",
     "text": [
      "\n",
      "type Play[p] or Exit[e] :  p\n"
     ]
    },
    {
     "name": "stdout",
     "output_type": "stream",
     "text": [
      "\n",
      "OK!\n",
      "Get ready . . .\n",
      "Let's Play!\n"
     ]
    },
    {
     "name": "stdin",
     "output_type": "stream",
     "text": [
      "\n",
      "Guess your letter :  a\n"
     ]
    },
    {
     "name": "stdout",
     "output_type": "stream",
     "text": [
      "\n",
      "_ a_ _ _ _ \n",
      "\n",
      "You have 5 guesses left!\n",
      "\n",
      "-----------------------------------\n"
     ]
    },
    {
     "name": "stdin",
     "output_type": "stream",
     "text": [
      "\n",
      "Guess your letter :  d\n"
     ]
    },
    {
     "name": "stdout",
     "output_type": "stream",
     "text": [
      "\n",
      "_ a_ _ _ _ \n",
      "\n",
      "You have 4 guesses left!\n",
      "\n",
      "-----------------------------------\n"
     ]
    },
    {
     "name": "stdin",
     "output_type": "stream",
     "text": [
      "\n",
      "Guess your letter :  h\n"
     ]
    },
    {
     "name": "stdout",
     "output_type": "stream",
     "text": [
      "\n",
      "_ a_ _ _ _ \n",
      "\n",
      "You have 3 guesses left!\n",
      "\n",
      "-----------------------------------\n"
     ]
    },
    {
     "name": "stdin",
     "output_type": "stream",
     "text": [
      "\n",
      "Guess your letter :  t\n"
     ]
    },
    {
     "name": "stdout",
     "output_type": "stream",
     "text": [
      "\n",
      "_ a_ _ _ _ \n",
      "\n",
      "You have 2 guesses left!\n",
      "\n",
      "-----------------------------------\n"
     ]
    },
    {
     "name": "stdin",
     "output_type": "stream",
     "text": [
      "\n",
      "Guess your letter :  q\n"
     ]
    },
    {
     "name": "stdout",
     "output_type": "stream",
     "text": [
      "\n",
      "_ a_ _ _ _ \n",
      "\n",
      "You have 1 guesses left!\n",
      "\n",
      "-----------------------------------\n"
     ]
    },
    {
     "name": "stdin",
     "output_type": "stream",
     "text": [
      "\n",
      "Guess your letter :  s\n"
     ]
    },
    {
     "name": "stdout",
     "output_type": "stream",
     "text": [
      "\n",
      "_ a_ _ _ s\n",
      "\n",
      "You have 0 guesses left!\n",
      "\n",
      "-----------------------------------\n",
      "\n",
      "No more turns left!\n",
      "\n",
      "And the word is ---> railes\n"
     ]
    },
    {
     "name": "stdin",
     "output_type": "stream",
     "text": [
      "\n",
      "type Play[p] or Exit[e] :  e\n"
     ]
    },
    {
     "name": "stdout",
     "output_type": "stream",
     "text": [
      "\n",
      "OK!\n",
      "Exiting the game . . .\n",
      "See you Again!\n"
     ]
    }
   ],
   "source": [
    "# 30. task is to write a function that picks a random word from a list of words from the SOWPODS dictionary.\n",
    "\n",
    "import random\n",
    "\n",
    "def get_Random_Word() :\n",
    "    f = open('sowpods.txt','r')\n",
    "    lst = f.readlines()\n",
    "    s = []\n",
    "    for i in lst :\n",
    "        s.append(i[:-1])\n",
    "    f.close()\n",
    "    return random.choice(s)\n",
    "\n",
    "\n",
    "# 31. Let’s continue building Hangman. In the game of Hangman, a clue word is given by the program that the player has to guess,\n",
    "# letter by letter. The player guesses one letter at a time until the entire word has been guessed.\n",
    "# (In the actual game, the player can only guess 6 letters incorrectly before losing).\n",
    "\n",
    "# Let’s say the word the player has to guess is “EVAPORATE”.\n",
    "# For this exercise, write the logic that asks a player to guess a letter and displays letters in the clue word that were guessed correctly.\n",
    "# For now, let the player guess an infinite number of times until they get the entire word.\n",
    "# As a bonus, keep track of the letters the player guessed and display a different message if the player tries to guess that letter again.\n",
    "# Remember to stop the game when all the letters have been guessed correctly!\n",
    "\n",
    "\n",
    "def displayer(l):\n",
    "    print('\\n'+''.join(l))\n",
    "    \n",
    "def guesser(c):\n",
    "    word = get_Random_Word().lower()\n",
    "    s = ['_ ' for i in range(len(word))]\n",
    "    tracker_list = []\n",
    "    \n",
    "    while c > 0 :\n",
    "        if ''.join(s) == word :\n",
    "            print('\\nYes!, the word is :',word)\n",
    "            return\n",
    "            \n",
    "        user_inp = input('\\nGuess your letter : ')\n",
    "        if user_inp in tracker_list :\n",
    "            print('\\nYou have already guessed this letter. Try another !')\n",
    "            continue\n",
    "        tracker_list.append(user_inp)\n",
    "        if user_inp in word :\n",
    "            for i in [idx for idx,v in enumerate(word) if v == user_inp] :\n",
    "                s[i] = user_inp\n",
    "            displayer(s)\n",
    "        else :\n",
    "            displayer(s)\n",
    "        c -= 1\n",
    "        print('\\nYou have {0} guesses left!'.format(c))\n",
    "        print()\n",
    "        print('-'*35)\n",
    "    else :\n",
    "        print('\\nNo more turns left!\\n\\nAnd the word is --->',word)\n",
    "\n",
    "# 32. Now add the following features:\n",
    "# Only let the user guess 6 times, and tell the user how many guesses they have left.\n",
    "# When the player wins or loses, let them start a new game.\n",
    "# Rather than telling the user \"You have 4 incorrect guesses left\", display some picture art for the Hangman.\n",
    "\n",
    "def start_Hangman() :\n",
    "    print(\"\\n********* Welcome to HangMan *********\")\n",
    "    while True :\n",
    "        guesser(6)\n",
    "        if (input('\\ntype Play[p] or Exit[e] : ') == 'e'):\n",
    "            print('\\nOK!\\nExiting the game . . .\\nSee you Again!')\n",
    "            return\n",
    "        else :\n",
    "            print('\\nOK!\\nGet ready . . .\\nLet\\'s Play!')\n",
    "\n",
    "start_Hangman()"
   ]
  }
 ],
 "metadata": {
  "kernelspec": {
   "display_name": "Python 3 (ipykernel)",
   "language": "python",
   "name": "python3"
  },
  "language_info": {
   "codemirror_mode": {
    "name": "ipython",
    "version": 3
   },
   "file_extension": ".py",
   "mimetype": "text/x-python",
   "name": "python",
   "nbconvert_exporter": "python",
   "pygments_lexer": "ipython3",
   "version": "3.12.3"
  }
 },
 "nbformat": 4,
 "nbformat_minor": 5
}
